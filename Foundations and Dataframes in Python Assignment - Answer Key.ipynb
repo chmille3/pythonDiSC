{
 "cells": [
  {
   "cell_type": "markdown",
   "metadata": {},
   "source": [
    "# Foundations and Dataframes in Python Assignment\n",
    "**Due on Canvas Monday 09/24/2018**\n",
    "\n",
    "Please download this notebook and rename it in the format \"YOURPID Python Assignment 1\". Please follow directions in the empty code blocks. You are not required to annotate with comments, but you can only receive partial credit for problems completed with comments. When finished, please submit on Canvas.\n",
    "\n",
    "**You may talk to your classmates if you're getting errors or having trouble finding a procedure, but you may not copy any part of their assignment.**\n",
    "\n",
    "If you have any questions, look through your notes and the notebooks posted in the Files area. If you still can't figure something out, you may [email me](mailto:ndporter@vt.edu) and I will respond within 48 hours."
   ]
  },
  {
   "cell_type": "markdown",
   "metadata": {},
   "source": [
    "## Foundational Python"
   ]
  },
  {
   "cell_type": "markdown",
   "metadata": {},
   "source": [
    "*We'll start using data from the million song dataset today, specifically looking at two bands: Backstreet Boys and N Sync. You can complete the assignment without knowing anything about them, but you may get a chuckle if you have a little familiarity.*\n",
    "\n",
    "A friend who grew up in the 90s asks you who was better, Backstreet Boys or N Sync. Being the good data-oriented people you are, you'd like to know a little more than just what their songs sound like. You decide to start by looking at their discography.\n",
    "\n",
    "**N Sync's [Discography](https://en.wikipedia.org/wiki/NSYNC_discography)**\n",
    "\n",
    "1997 'N Sync\n",
    "\n",
    "1998 Home for Christmas *(Christmas)*\n",
    "\n",
    "1998 The Winter Album *(Christmas)*\n",
    "\n",
    "2000 No Strings Attached\n",
    "\n",
    "2001 Celebrity\n",
    "\n",
    "2005 Greatest Hits *(Compilation)*\n",
    "\n",
    "2010 The Collection *(Compilation)*\n",
    "\n",
    "2014 The Essential \\*NSYNC *(Compilation)*\n",
    "\n",
    "**Backstreet Boy's [Discography](https://en.wikipedia.org/wiki/Backstreet_Boys_discography)**\n",
    "\n",
    "1996 Backstreet Boys\n",
    "\n",
    "1997 Backstreet's Back\n",
    "\n",
    "1998 A Night Out with the Backstreet Boys *(Live)*\n",
    "\n",
    "1999 Millenium\n",
    "\n",
    "2000 Black & Blue\n",
    "\n",
    "2001 The Hits - Chapter One *(Compilation)*\n",
    "\n",
    "2005 Never Gone\n",
    "\n",
    "2007 Unbreakable\n",
    "\n",
    "2009 This is Us\n",
    "\n",
    "2013 In a World Like This\n",
    "\n",
    "2013 The Essential Backstreet Boys *(Compilation)*"
   ]
  },
  {
   "cell_type": "markdown",
   "metadata": {},
   "source": [
    "Create a variable whose value is equal to the length of time N Sync was actively producing new studio releases (e.g. not compilations) then print the phrase \"N Sync Longevity\" followed by the variable's value. **5 points**"
   ]
  },
  {
   "cell_type": "code",
   "execution_count": 1,
   "metadata": {
    "collapsed": true
   },
   "outputs": [],
   "source": [
    "#Don't do the math in your head\n",
    "#Use Python to calculate the number of years"
   ]
  },
  {
   "cell_type": "code",
   "execution_count": 1,
   "metadata": {},
   "outputs": [
    {
     "name": "stdout",
     "output_type": "stream",
     "text": [
      "N Sync Longevity: 4\n"
     ]
    }
   ],
   "source": [
    "nsLong = 2001-1997\n",
    "print(\"N Sync Longevity:\",nsLong)"
   ]
  },
  {
   "cell_type": "markdown",
   "metadata": {},
   "source": [
    "Now do the same thing for Backstreet Boys, again printing the value as above. **5 points**"
   ]
  },
  {
   "cell_type": "code",
   "execution_count": 2,
   "metadata": {},
   "outputs": [
    {
     "name": "stdout",
     "output_type": "stream",
     "text": [
      "Backstreet Boys Longevity: 17\n"
     ]
    }
   ],
   "source": [
    "bsbLong=2013-1996\n",
    "print(\"Backstreet Boys Longevity:\",bsbLong)"
   ]
  },
  {
   "cell_type": "markdown",
   "metadata": {},
   "source": [
    "Now divide the two variables to find out how many times as long Backstreet Boys were making new music as N Sync. **5 points**"
   ]
  },
  {
   "cell_type": "code",
   "execution_count": 3,
   "metadata": {},
   "outputs": [
    {
     "data": {
      "text/plain": [
       "4.25"
      ]
     },
     "execution_count": 3,
     "metadata": {},
     "output_type": "execute_result"
    }
   ],
   "source": [
    "bsbLong/nsLong"
   ]
  },
  {
   "cell_type": "markdown",
   "metadata": {},
   "source": [
    "Let's look at some songs. Make a **list** of the titles of some of the top songs from BSB and NS (all the below): **5 points**\n",
    "\n",
    "[I Want it That Way](https://www.youtube.com/watch?v=4fndeDfaWCg)\n",
    "\n",
    "[Everybody (Backstreet's Back)](https://www.youtube.com/watch?v=6M6samPEMpM)\n",
    "\n",
    "[Bye Bye Bye](https://www.youtube.com/watch?v=Eo-KmOd3i7s)\n",
    "\n",
    "[I Want You Back](https://www.youtube.com/watch?v=Jl9wD1-CUiI)\n",
    "\n",
    "[The Christmas Song](https://www.youtube.com/watch?v=A-s8YT89q_8)"
   ]
  },
  {
   "cell_type": "code",
   "execution_count": 3,
   "metadata": {
    "collapsed": true
   },
   "outputs": [],
   "source": [
    "#Hint: make a list of strings"
   ]
  },
  {
   "cell_type": "code",
   "execution_count": 4,
   "metadata": {
    "collapsed": true
   },
   "outputs": [],
   "source": [
    "songs = [\"I Want It That Way\",\"Everybody (Backstreet's Back)\",\"Bye Bye Bye\",\"I Want You Back\",\"The Christmas Song\"]"
   ]
  },
  {
   "cell_type": "markdown",
   "metadata": {},
   "source": [
    "Oops! We changed our mind and don't want any Christmas music in our list. Delete any Christmas songs and print the new list. **5 points**"
   ]
  },
  {
   "cell_type": "code",
   "execution_count": 5,
   "metadata": {},
   "outputs": [
    {
     "name": "stdout",
     "output_type": "stream",
     "text": [
      "['I Want It That Way', \"Everybody (Backstreet's Back)\", 'Bye Bye Bye', 'I Want You Back']\n"
     ]
    }
   ],
   "source": [
    "del songs[-1]\n",
    "print(songs)"
   ]
  },
  {
   "cell_type": "markdown",
   "metadata": {},
   "source": [
    "Now: Use a **for** loop to do the following for each song in the list: **25 points**\n",
    "\n",
    "1. Print \"How do you want it?\"\n",
    "\n",
    "2. If the song is \"Everybody (Backstreet's Back)\" print \"I want you to rock your body right\"\n",
    "\n",
    "3. If the song is \"I Want it That Way\" print \"I Want it That Way\"\n",
    "\n",
    "4. Otherwise, print \"I Want in In Sync\""
   ]
  },
  {
   "cell_type": "code",
   "execution_count": 6,
   "metadata": {},
   "outputs": [
    {
     "name": "stdout",
     "output_type": "stream",
     "text": [
      "How do you want it?\n",
      "I Want it That Way\n",
      "How do you want it?\n",
      "I want you to rock your body right\n",
      "How do you want it?\n",
      "I Want it In Sync\n",
      "How do you want it?\n",
      "I Want it In Sync\n"
     ]
    }
   ],
   "source": [
    "for song in songs:\n",
    "    print(\"How do you want it?\")\n",
    "    if song==\"Everybody (Backstreet's Back)\":\n",
    "        print(\"I want you to rock your body right\")\n",
    "    elif song==\"I Want It That Way\":\n",
    "        print(\"I Want it That Way\")\n",
    "    else:\n",
    "        print(\"I Want it In Sync\")"
   ]
  },
  {
   "cell_type": "markdown",
   "metadata": {},
   "source": [
    "## Data Frames in Pandas"
   ]
  },
  {
   "cell_type": "markdown",
   "metadata": {},
   "source": [
    "*Now let's look at some data from the Million Song Dataset, specifically the track information for tracks by N Sync and Backstreet Boys. We'll use Pandas dataframes to do some simple analysis.*"
   ]
  },
  {
   "cell_type": "markdown",
   "metadata": {},
   "source": [
    "First, load the pandas package. **5 points**"
   ]
  },
  {
   "cell_type": "code",
   "execution_count": 8,
   "metadata": {
    "collapsed": true
   },
   "outputs": [],
   "source": [
    "import pandas as pd"
   ]
  },
  {
   "cell_type": "markdown",
   "metadata": {},
   "source": [
    "~~Download [this Excel workbook](https://drive.google.com/file/d/1LuPEAp1LnczTXyXSZRF8PGJbFytd2CPt/view?usp=sharing) and read it into Python then look at the first 5 rows to see what the data look like.~~\n",
    "\n",
    "Read [this dataset](https://github.com/ndporter/pythonDiSC/raw/master/ns-bsb-data.xls) directly into Python/Pandas (you can copy-paste the link into your code).**10 points**"
   ]
  },
  {
   "cell_type": "code",
   "execution_count": 11,
   "metadata": {},
   "outputs": [
    {
     "data": {
      "text/html": [
       "<div>\n",
       "<style>\n",
       "    .dataframe thead tr:only-child th {\n",
       "        text-align: right;\n",
       "    }\n",
       "\n",
       "    .dataframe thead th {\n",
       "        text-align: left;\n",
       "    }\n",
       "\n",
       "    .dataframe tbody tr th {\n",
       "        vertical-align: top;\n",
       "    }\n",
       "</style>\n",
       "<table border=\"1\" class=\"dataframe\">\n",
       "  <thead>\n",
       "    <tr style=\"text-align: right;\">\n",
       "      <th></th>\n",
       "      <th>track_id</th>\n",
       "      <th>title</th>\n",
       "      <th>song_id</th>\n",
       "      <th>release</th>\n",
       "      <th>artist_id</th>\n",
       "      <th>artist_mbid</th>\n",
       "      <th>artist_name</th>\n",
       "      <th>duration</th>\n",
       "      <th>artist_familiarity</th>\n",
       "      <th>artist_hotttnesss</th>\n",
       "      <th>year</th>\n",
       "      <th>track_7digitalid</th>\n",
       "      <th>shs_perf</th>\n",
       "      <th>shs_work</th>\n",
       "    </tr>\n",
       "  </thead>\n",
       "  <tbody>\n",
       "    <tr>\n",
       "      <th>0</th>\n",
       "      <td>TRGKUCI128F4295705</td>\n",
       "      <td>I Want You Back</td>\n",
       "      <td>SOBVKYP12A8C13C0EE</td>\n",
       "      <td>'N Sync</td>\n",
       "      <td>ARHFCP01187B994361</td>\n",
       "      <td>603ba565-3967-4be1-931e-9cb945394e86</td>\n",
       "      <td>N Sync</td>\n",
       "      <td>263.15710</td>\n",
       "      <td>0.693100</td>\n",
       "      <td>0.582726</td>\n",
       "      <td>1996</td>\n",
       "      <td>3369235</td>\n",
       "      <td>-1</td>\n",
       "      <td>0</td>\n",
       "    </tr>\n",
       "    <tr>\n",
       "      <th>1</th>\n",
       "      <td>TRUNBFE128F42956EF</td>\n",
       "      <td>Tearin' Up My Heart</td>\n",
       "      <td>SOOTTNM12A8C13A846</td>\n",
       "      <td>'N Sync</td>\n",
       "      <td>ARHFCP01187B994361</td>\n",
       "      <td>603ba565-3967-4be1-931e-9cb945394e86</td>\n",
       "      <td>N Sync</td>\n",
       "      <td>286.27546</td>\n",
       "      <td>0.693100</td>\n",
       "      <td>0.582726</td>\n",
       "      <td>1997</td>\n",
       "      <td>3369213</td>\n",
       "      <td>-1</td>\n",
       "      <td>0</td>\n",
       "    </tr>\n",
       "    <tr>\n",
       "      <th>2</th>\n",
       "      <td>TRXDVFH128F4299B5B</td>\n",
       "      <td>Here We Go</td>\n",
       "      <td>SOSFLHV12D021B3CDE</td>\n",
       "      <td>'N Sync</td>\n",
       "      <td>ARHFCP01187B994361</td>\n",
       "      <td>603ba565-3967-4be1-931e-9cb945394e86</td>\n",
       "      <td>N Sync</td>\n",
       "      <td>215.06567</td>\n",
       "      <td>0.775325</td>\n",
       "      <td>0.582726</td>\n",
       "      <td>1997</td>\n",
       "      <td>3386987</td>\n",
       "      <td>-1</td>\n",
       "      <td>0</td>\n",
       "    </tr>\n",
       "    <tr>\n",
       "      <th>3</th>\n",
       "      <td>TRYMBOH128F42956FE</td>\n",
       "      <td>I Need Love</td>\n",
       "      <td>SOEADFG12D0219BDAF</td>\n",
       "      <td>'N Sync</td>\n",
       "      <td>ARHFCP01187B994361</td>\n",
       "      <td>603ba565-3967-4be1-931e-9cb945394e86</td>\n",
       "      <td>N Sync</td>\n",
       "      <td>194.87302</td>\n",
       "      <td>0.775325</td>\n",
       "      <td>0.582726</td>\n",
       "      <td>1997</td>\n",
       "      <td>3369228</td>\n",
       "      <td>-1</td>\n",
       "      <td>0</td>\n",
       "    </tr>\n",
       "    <tr>\n",
       "      <th>4</th>\n",
       "      <td>TRQDEFW128F42A4790</td>\n",
       "      <td>Sailing</td>\n",
       "      <td>SORBWFF12D0219882D</td>\n",
       "      <td>'N Sync UK Version</td>\n",
       "      <td>ARHFCP01187B994361</td>\n",
       "      <td>603ba565-3967-4be1-931e-9cb945394e86</td>\n",
       "      <td>N Sync</td>\n",
       "      <td>NaN</td>\n",
       "      <td>NaN</td>\n",
       "      <td>NaN</td>\n",
       "      <td>1997</td>\n",
       "      <td>3431924</td>\n",
       "      <td>30108</td>\n",
       "      <td>13222</td>\n",
       "    </tr>\n",
       "  </tbody>\n",
       "</table>\n",
       "</div>"
      ],
      "text/plain": [
       "             track_id                title             song_id  \\\n",
       "0  TRGKUCI128F4295705      I Want You Back  SOBVKYP12A8C13C0EE   \n",
       "1  TRUNBFE128F42956EF  Tearin' Up My Heart  SOOTTNM12A8C13A846   \n",
       "2  TRXDVFH128F4299B5B           Here We Go  SOSFLHV12D021B3CDE   \n",
       "3  TRYMBOH128F42956FE          I Need Love  SOEADFG12D0219BDAF   \n",
       "4  TRQDEFW128F42A4790              Sailing  SORBWFF12D0219882D   \n",
       "\n",
       "              release           artist_id  \\\n",
       "0             'N Sync  ARHFCP01187B994361   \n",
       "1             'N Sync  ARHFCP01187B994361   \n",
       "2             'N Sync  ARHFCP01187B994361   \n",
       "3             'N Sync  ARHFCP01187B994361   \n",
       "4  'N Sync UK Version  ARHFCP01187B994361   \n",
       "\n",
       "                            artist_mbid artist_name   duration  \\\n",
       "0  603ba565-3967-4be1-931e-9cb945394e86      N Sync  263.15710   \n",
       "1  603ba565-3967-4be1-931e-9cb945394e86      N Sync  286.27546   \n",
       "2  603ba565-3967-4be1-931e-9cb945394e86      N Sync  215.06567   \n",
       "3  603ba565-3967-4be1-931e-9cb945394e86      N Sync  194.87302   \n",
       "4  603ba565-3967-4be1-931e-9cb945394e86      N Sync        NaN   \n",
       "\n",
       "   artist_familiarity  artist_hotttnesss  year  track_7digitalid  shs_perf  \\\n",
       "0            0.693100           0.582726  1996           3369235        -1   \n",
       "1            0.693100           0.582726  1997           3369213        -1   \n",
       "2            0.775325           0.582726  1997           3386987        -1   \n",
       "3            0.775325           0.582726  1997           3369228        -1   \n",
       "4                 NaN                NaN  1997           3431924     30108   \n",
       "\n",
       "   shs_work  \n",
       "0         0  \n",
       "1         0  \n",
       "2         0  \n",
       "3         0  \n",
       "4     13222  "
      ]
     },
     "execution_count": 11,
     "metadata": {},
     "output_type": "execute_result"
    }
   ],
   "source": [
    "data = pd.read_excel(\"https://github.com/ndporter/pythonDiSC/raw/master/ns-bsb-data.xls\")\n",
    "data.head()"
   ]
  },
  {
   "cell_type": "markdown",
   "metadata": {},
   "source": [
    "Remove any cases (rows) with missing data. **5 points**"
   ]
  },
  {
   "cell_type": "code",
   "execution_count": 12,
   "metadata": {
    "collapsed": true
   },
   "outputs": [],
   "source": [
    "valid = data.dropna()"
   ]
  },
  {
   "cell_type": "markdown",
   "metadata": {},
   "source": [
    "*Were they still Hot in 2010? Which was hotter?* **25 points**\n",
    "\n",
    "Find the mean Artist Hotttnesss for Backstreet Boys and N Sync by:\n",
    "\n",
    "1. Subset cases into two new datasets using artist names, one for each group.\n",
    "2. Find the mean of the variable \"artist_hotttnesss\" in each of the two new datasets.\n",
    "3. Print the values with labels (like you did for variable values above)"
   ]
  },
  {
   "cell_type": "code",
   "execution_count": 13,
   "metadata": {},
   "outputs": [
    {
     "name": "stdout",
     "output_type": "stream",
     "text": [
      "Backstreet Boys Hotttness: 0.5923156558008181\n",
      "N Sync Hotttness: 0.5827262552859998\n"
     ]
    }
   ],
   "source": [
    "bsbSub = valid[valid['artist_name']=='Backstreet Boys']\n",
    "print(\"Backstreet Boys Hotttness:\",bsbSub['artist_hotttnesss'].mean())\n",
    "nsSub = valid[valid['artist_name']=='N Sync']\n",
    "print(\"N Sync Hotttness:\",nsSub['artist_hotttnesss'].mean())"
   ]
  },
  {
   "cell_type": "markdown",
   "metadata": {},
   "source": [
    "Please add a comment below estimating how much time you spent on this assignment. **5 points**"
   ]
  },
  {
   "cell_type": "code",
   "execution_count": null,
   "metadata": {
    "collapsed": true
   },
   "outputs": [],
   "source": [
    "#5 minutes"
   ]
  },
  {
   "cell_type": "markdown",
   "metadata": {},
   "source": [
    "**You're done! Make sure to double check your work and to name your file per the directions.**"
   ]
  },
  {
   "cell_type": "markdown",
   "metadata": {},
   "source": [
    "Bonus points (**5**): Add a comment below stating which of the groups you think is better and why. You can justify it with the data we looked at, other data, favorite songs, or any other reason."
   ]
  },
  {
   "cell_type": "code",
   "execution_count": 16,
   "metadata": {
    "collapsed": true
   },
   "outputs": [],
   "source": [
    "#BSB4Eva because they had real depth or something"
   ]
  }
 ],
 "metadata": {
  "kernelspec": {
   "display_name": "Python 3",
   "language": "python",
   "name": "python3"
  },
  "language_info": {
   "codemirror_mode": {
    "name": "ipython",
    "version": 3
   },
   "file_extension": ".py",
   "mimetype": "text/x-python",
   "name": "python",
   "nbconvert_exporter": "python",
   "pygments_lexer": "ipython3",
   "version": "3.6.2"
  }
 },
 "nbformat": 4,
 "nbformat_minor": 2
}
