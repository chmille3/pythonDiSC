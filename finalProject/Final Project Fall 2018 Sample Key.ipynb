{
 "cells": [
  {
   "cell_type": "markdown",
   "metadata": {},
   "source": [
    "# Jupyter Notebook for Final Assignment DiSC Fall 2018\n",
    "\n",
    "***Complete all of the prompts below. They will serve both as demonstrations of your technical/analytic skills and as source material for the substantive discussions in the remainder of your project. Download and rename this Jupyter notebook from the finalProject folder of the github, then follow the directions completely concerning each prompt.***\n",
    "\n",
    "*All data are drawn from the [Million Song Subset](https://labrosa.ee.columbia.edu/millionsong/).*\n",
    "\n",
    "*Please use a p<0.05 significance level for all hypothesis testing.*"
   ]
  },
  {
   "cell_type": "markdown",
   "metadata": {},
   "source": [
    "## Prompt 1: Genre and Decade\n",
    "\n",
    "***Some musical genres seem to be more enduring than others. Rock, Adult Contemporary, Country and Gospel/Christian are a few examples of genre labels that continue to be salient over many years, even if the style itself changes throughout that time. Choose 3 common genres to test whether songs (in the subset) are released with the same relative frequency across the 1980s, 1990s and 2000s between the three genres.***"
   ]
  },
  {
   "cell_type": "code",
   "execution_count": 1,
   "metadata": {
    "collapsed": true
   },
   "outputs": [],
   "source": [
    "import pandas as pd"
   ]
  },
  {
   "cell_type": "code",
   "execution_count": 17,
   "metadata": {
    "collapsed": true
   },
   "outputs": [],
   "source": [
    "#Download data for songs in genres with 50 or more songs in the subset\n",
    "indata1 = pd.read_csv('https://raw.githubusercontent.com/ndporter/pythonDiSC/master/finalProject/DiSC_Million_Songs_Popular_Tags.csv')"
   ]
  },
  {
   "cell_type": "code",
   "execution_count": 18,
   "metadata": {
    "collapsed": true
   },
   "outputs": [],
   "source": [
    "###Just run this cell and don't worry about what it means unless you're interested###\n",
    "\n",
    "#create decades variable\n",
    "#function to run on each row to create a (string) decade variable\n",
    "def makedecade(row):\n",
    "    if 1980<=row['year']<1990:\n",
    "        val='80s'\n",
    "    elif 1990<=row['year']<2000:\n",
    "        val='90s'\n",
    "    elif 2000<=row['year']<2010:\n",
    "        val='00s'\n",
    "    else:\n",
    "        val='missing'\n",
    "    return val\n",
    "#apply does the same thing to each column (axis=0) or row (axis=1) in the dataframe\n",
    "#so below, I apply the makedecade function to each row to create a new column with decades\n",
    "indata1['decade'] = indata1.apply(makedecade,axis=1) "
   ]
  },
  {
   "cell_type": "code",
   "execution_count": 19,
   "metadata": {
    "scrolled": true
   },
   "outputs": [
    {
     "data": {
      "text/html": [
       "<div>\n",
       "<style scoped>\n",
       "    .dataframe tbody tr th:only-of-type {\n",
       "        vertical-align: middle;\n",
       "    }\n",
       "\n",
       "    .dataframe tbody tr th {\n",
       "        vertical-align: top;\n",
       "    }\n",
       "\n",
       "    .dataframe thead th {\n",
       "        text-align: right;\n",
       "    }\n",
       "</style>\n",
       "<table border=\"1\" class=\"dataframe\">\n",
       "  <thead>\n",
       "    <tr style=\"text-align: right;\">\n",
       "      <th></th>\n",
       "      <th>Unnamed: 0</th>\n",
       "      <th>song_id</th>\n",
       "      <th>artist_id</th>\n",
       "      <th>artist_name</th>\n",
       "      <th>artist_familiarity</th>\n",
       "      <th>artist_hotttnesss</th>\n",
       "      <th>title</th>\n",
       "      <th>song_hotttnesss</th>\n",
       "      <th>year</th>\n",
       "      <th>duration</th>\n",
       "      <th>loudness</th>\n",
       "      <th>tempo</th>\n",
       "      <th>artist_mbtags</th>\n",
       "      <th>release</th>\n",
       "      <th>release_7digitalid</th>\n",
       "      <th>decade</th>\n",
       "    </tr>\n",
       "  </thead>\n",
       "  <tbody>\n",
       "    <tr>\n",
       "      <th>0</th>\n",
       "      <td>1</td>\n",
       "      <td>SOCIWDW12A8C13D406</td>\n",
       "      <td>ARMJAGH1187FB546F3</td>\n",
       "      <td>The Box Tops</td>\n",
       "      <td>0.630630</td>\n",
       "      <td>0.417500</td>\n",
       "      <td>Soul Deep</td>\n",
       "      <td>NaN</td>\n",
       "      <td>1969</td>\n",
       "      <td>148.03546</td>\n",
       "      <td>-9.843</td>\n",
       "      <td>121.274</td>\n",
       "      <td>classic pop and rock</td>\n",
       "      <td>Dimensions</td>\n",
       "      <td>300822</td>\n",
       "      <td>missing</td>\n",
       "    </tr>\n",
       "    <tr>\n",
       "      <th>1</th>\n",
       "      <td>3</td>\n",
       "      <td>SONHOTT12A8C13493C</td>\n",
       "      <td>AR7G5I41187FB4CE6C</td>\n",
       "      <td>Adam Ant</td>\n",
       "      <td>0.630382</td>\n",
       "      <td>0.454231</td>\n",
       "      <td>Something Girls</td>\n",
       "      <td>NaN</td>\n",
       "      <td>1982</td>\n",
       "      <td>233.40363</td>\n",
       "      <td>-9.013</td>\n",
       "      <td>119.293</td>\n",
       "      <td>uk</td>\n",
       "      <td>Friend Or Foe</td>\n",
       "      <td>287650</td>\n",
       "      <td>80s</td>\n",
       "    </tr>\n",
       "    <tr>\n",
       "      <th>2</th>\n",
       "      <td>14</td>\n",
       "      <td>SOBONFF12A6D4F84D8</td>\n",
       "      <td>ARIK43K1187B9AE54C</td>\n",
       "      <td>Lionel Richie</td>\n",
       "      <td>0.776676</td>\n",
       "      <td>0.553072</td>\n",
       "      <td>Tonight Will Be Alright</td>\n",
       "      <td>NaN</td>\n",
       "      <td>1986</td>\n",
       "      <td>307.38240</td>\n",
       "      <td>-8.346</td>\n",
       "      <td>125.197</td>\n",
       "      <td>soul and reggae</td>\n",
       "      <td>Dancing On The Ceiling</td>\n",
       "      <td>25811</td>\n",
       "      <td>80s</td>\n",
       "    </tr>\n",
       "    <tr>\n",
       "      <th>3</th>\n",
       "      <td>23</td>\n",
       "      <td>SOBBUGU12A8C13E95D</td>\n",
       "      <td>ARMAC4T1187FB3FA4C</td>\n",
       "      <td>The Dillinger Escape Plan</td>\n",
       "      <td>0.839963</td>\n",
       "      <td>0.541889</td>\n",
       "      <td>Setting Fire to Sleeping Giants</td>\n",
       "      <td>0.666528</td>\n",
       "      <td>2004</td>\n",
       "      <td>207.77751</td>\n",
       "      <td>-4.264</td>\n",
       "      <td>166.862</td>\n",
       "      <td>rock and indie</td>\n",
       "      <td>Miss Machine</td>\n",
       "      <td>223365</td>\n",
       "      <td>00s</td>\n",
       "    </tr>\n",
       "    <tr>\n",
       "      <th>4</th>\n",
       "      <td>30</td>\n",
       "      <td>SOGNCJP12A58A80271</td>\n",
       "      <td>ARB29H41187B98F0EF</td>\n",
       "      <td>Terry Callier</td>\n",
       "      <td>0.706828</td>\n",
       "      <td>0.416173</td>\n",
       "      <td>Do You Finally Need A Friend</td>\n",
       "      <td>0.413740</td>\n",
       "      <td>1972</td>\n",
       "      <td>342.56934</td>\n",
       "      <td>-11.939</td>\n",
       "      <td>110.189</td>\n",
       "      <td>classic pop and rock</td>\n",
       "      <td>Occasional Rain</td>\n",
       "      <td>228326</td>\n",
       "      <td>missing</td>\n",
       "    </tr>\n",
       "  </tbody>\n",
       "</table>\n",
       "</div>"
      ],
      "text/plain": [
       "   Unnamed: 0             song_id           artist_id  \\\n",
       "0           1  SOCIWDW12A8C13D406  ARMJAGH1187FB546F3   \n",
       "1           3  SONHOTT12A8C13493C  AR7G5I41187FB4CE6C   \n",
       "2          14  SOBONFF12A6D4F84D8  ARIK43K1187B9AE54C   \n",
       "3          23  SOBBUGU12A8C13E95D  ARMAC4T1187FB3FA4C   \n",
       "4          30  SOGNCJP12A58A80271  ARB29H41187B98F0EF   \n",
       "\n",
       "                 artist_name  artist_familiarity  artist_hotttnesss  \\\n",
       "0               The Box Tops            0.630630           0.417500   \n",
       "1                   Adam Ant            0.630382           0.454231   \n",
       "2              Lionel Richie            0.776676           0.553072   \n",
       "3  The Dillinger Escape Plan            0.839963           0.541889   \n",
       "4              Terry Callier            0.706828           0.416173   \n",
       "\n",
       "                             title  song_hotttnesss  year   duration  \\\n",
       "0                        Soul Deep              NaN  1969  148.03546   \n",
       "1                  Something Girls              NaN  1982  233.40363   \n",
       "2          Tonight Will Be Alright              NaN  1986  307.38240   \n",
       "3  Setting Fire to Sleeping Giants         0.666528  2004  207.77751   \n",
       "4     Do You Finally Need A Friend         0.413740  1972  342.56934   \n",
       "\n",
       "   loudness    tempo         artist_mbtags                 release  \\\n",
       "0    -9.843  121.274  classic pop and rock              Dimensions   \n",
       "1    -9.013  119.293                    uk           Friend Or Foe   \n",
       "2    -8.346  125.197       soul and reggae  Dancing On The Ceiling   \n",
       "3    -4.264  166.862        rock and indie            Miss Machine   \n",
       "4   -11.939  110.189  classic pop and rock         Occasional Rain   \n",
       "\n",
       "   release_7digitalid   decade  \n",
       "0              300822  missing  \n",
       "1              287650      80s  \n",
       "2               25811      80s  \n",
       "3              223365      00s  \n",
       "4              228326  missing  "
      ]
     },
     "execution_count": 19,
     "metadata": {},
     "output_type": "execute_result"
    }
   ],
   "source": [
    "indata1.head()"
   ]
  },
  {
   "cell_type": "code",
   "execution_count": 20,
   "metadata": {
    "collapsed": true
   },
   "outputs": [],
   "source": [
    "#remove decades outside the period of interest (and data missing on year)\n",
    "indata1 = indata1[indata1['decade']!='missing']"
   ]
  },
  {
   "cell_type": "code",
   "execution_count": 21,
   "metadata": {},
   "outputs": [
    {
     "data": {
      "text/html": [
       "<div>\n",
       "<style scoped>\n",
       "    .dataframe tbody tr th:only-of-type {\n",
       "        vertical-align: middle;\n",
       "    }\n",
       "\n",
       "    .dataframe tbody tr th {\n",
       "        vertical-align: top;\n",
       "    }\n",
       "\n",
       "    .dataframe thead th {\n",
       "        text-align: right;\n",
       "    }\n",
       "</style>\n",
       "<table border=\"1\" class=\"dataframe\">\n",
       "  <thead>\n",
       "    <tr style=\"text-align: right;\">\n",
       "      <th></th>\n",
       "      <th>Unnamed: 0</th>\n",
       "      <th>song_id</th>\n",
       "      <th>artist_id</th>\n",
       "      <th>artist_name</th>\n",
       "      <th>artist_familiarity</th>\n",
       "      <th>artist_hotttnesss</th>\n",
       "      <th>title</th>\n",
       "      <th>song_hotttnesss</th>\n",
       "      <th>year</th>\n",
       "      <th>duration</th>\n",
       "      <th>loudness</th>\n",
       "      <th>tempo</th>\n",
       "      <th>artist_mbtags</th>\n",
       "      <th>release</th>\n",
       "      <th>release_7digitalid</th>\n",
       "      <th>decade</th>\n",
       "    </tr>\n",
       "  </thead>\n",
       "  <tbody>\n",
       "    <tr>\n",
       "      <th>1</th>\n",
       "      <td>3</td>\n",
       "      <td>SONHOTT12A8C13493C</td>\n",
       "      <td>AR7G5I41187FB4CE6C</td>\n",
       "      <td>Adam Ant</td>\n",
       "      <td>0.630382</td>\n",
       "      <td>0.454231</td>\n",
       "      <td>Something Girls</td>\n",
       "      <td>NaN</td>\n",
       "      <td>1982</td>\n",
       "      <td>233.40363</td>\n",
       "      <td>-9.013</td>\n",
       "      <td>119.293</td>\n",
       "      <td>uk</td>\n",
       "      <td>Friend Or Foe</td>\n",
       "      <td>287650</td>\n",
       "      <td>80s</td>\n",
       "    </tr>\n",
       "    <tr>\n",
       "      <th>2</th>\n",
       "      <td>14</td>\n",
       "      <td>SOBONFF12A6D4F84D8</td>\n",
       "      <td>ARIK43K1187B9AE54C</td>\n",
       "      <td>Lionel Richie</td>\n",
       "      <td>0.776676</td>\n",
       "      <td>0.553072</td>\n",
       "      <td>Tonight Will Be Alright</td>\n",
       "      <td>NaN</td>\n",
       "      <td>1986</td>\n",
       "      <td>307.38240</td>\n",
       "      <td>-8.346</td>\n",
       "      <td>125.197</td>\n",
       "      <td>soul and reggae</td>\n",
       "      <td>Dancing On The Ceiling</td>\n",
       "      <td>25811</td>\n",
       "      <td>80s</td>\n",
       "    </tr>\n",
       "    <tr>\n",
       "      <th>3</th>\n",
       "      <td>23</td>\n",
       "      <td>SOBBUGU12A8C13E95D</td>\n",
       "      <td>ARMAC4T1187FB3FA4C</td>\n",
       "      <td>The Dillinger Escape Plan</td>\n",
       "      <td>0.839963</td>\n",
       "      <td>0.541889</td>\n",
       "      <td>Setting Fire to Sleeping Giants</td>\n",
       "      <td>0.666528</td>\n",
       "      <td>2004</td>\n",
       "      <td>207.77751</td>\n",
       "      <td>-4.264</td>\n",
       "      <td>166.862</td>\n",
       "      <td>rock and indie</td>\n",
       "      <td>Miss Machine</td>\n",
       "      <td>223365</td>\n",
       "      <td>00s</td>\n",
       "    </tr>\n",
       "    <tr>\n",
       "      <th>7</th>\n",
       "      <td>46</td>\n",
       "      <td>SOTSEJY12AB0180F56</td>\n",
       "      <td>ART3O5Z1187B9AB043</td>\n",
       "      <td>Stevie Ray Vaughan</td>\n",
       "      <td>0.733799</td>\n",
       "      <td>0.544258</td>\n",
       "      <td>Crossfire</td>\n",
       "      <td>NaN</td>\n",
       "      <td>1992</td>\n",
       "      <td>248.78975</td>\n",
       "      <td>-7.805</td>\n",
       "      <td>116.721</td>\n",
       "      <td>jazz and blues</td>\n",
       "      <td>Greatest Hits</td>\n",
       "      <td>417945</td>\n",
       "      <td>90s</td>\n",
       "    </tr>\n",
       "    <tr>\n",
       "      <th>8</th>\n",
       "      <td>47</td>\n",
       "      <td>SOTSETT12AB01863B8</td>\n",
       "      <td>AR5U94U1187FB5CDCF</td>\n",
       "      <td>John Hammond</td>\n",
       "      <td>0.590693</td>\n",
       "      <td>0.452818</td>\n",
       "      <td>I Can't Be Satisfied</td>\n",
       "      <td>NaN</td>\n",
       "      <td>2002</td>\n",
       "      <td>195.31710</td>\n",
       "      <td>-10.700</td>\n",
       "      <td>123.142</td>\n",
       "      <td>folk</td>\n",
       "      <td>Bluesman</td>\n",
       "      <td>575531</td>\n",
       "      <td>00s</td>\n",
       "    </tr>\n",
       "  </tbody>\n",
       "</table>\n",
       "</div>"
      ],
      "text/plain": [
       "   Unnamed: 0             song_id           artist_id  \\\n",
       "1           3  SONHOTT12A8C13493C  AR7G5I41187FB4CE6C   \n",
       "2          14  SOBONFF12A6D4F84D8  ARIK43K1187B9AE54C   \n",
       "3          23  SOBBUGU12A8C13E95D  ARMAC4T1187FB3FA4C   \n",
       "7          46  SOTSEJY12AB0180F56  ART3O5Z1187B9AB043   \n",
       "8          47  SOTSETT12AB01863B8  AR5U94U1187FB5CDCF   \n",
       "\n",
       "                 artist_name  artist_familiarity  artist_hotttnesss  \\\n",
       "1                   Adam Ant            0.630382           0.454231   \n",
       "2              Lionel Richie            0.776676           0.553072   \n",
       "3  The Dillinger Escape Plan            0.839963           0.541889   \n",
       "7         Stevie Ray Vaughan            0.733799           0.544258   \n",
       "8               John Hammond            0.590693           0.452818   \n",
       "\n",
       "                             title  song_hotttnesss  year   duration  \\\n",
       "1                  Something Girls              NaN  1982  233.40363   \n",
       "2          Tonight Will Be Alright              NaN  1986  307.38240   \n",
       "3  Setting Fire to Sleeping Giants         0.666528  2004  207.77751   \n",
       "7                        Crossfire              NaN  1992  248.78975   \n",
       "8             I Can't Be Satisfied              NaN  2002  195.31710   \n",
       "\n",
       "   loudness    tempo    artist_mbtags                 release  \\\n",
       "1    -9.013  119.293               uk           Friend Or Foe   \n",
       "2    -8.346  125.197  soul and reggae  Dancing On The Ceiling   \n",
       "3    -4.264  166.862   rock and indie            Miss Machine   \n",
       "7    -7.805  116.721   jazz and blues           Greatest Hits   \n",
       "8   -10.700  123.142             folk                Bluesman   \n",
       "\n",
       "   release_7digitalid decade  \n",
       "1              287650    80s  \n",
       "2               25811    80s  \n",
       "3              223365    00s  \n",
       "7              417945    90s  \n",
       "8              575531    00s  "
      ]
     },
     "execution_count": 21,
     "metadata": {},
     "output_type": "execute_result"
    }
   ],
   "source": [
    "indata1.head()"
   ]
  },
  {
   "cell_type": "code",
   "execution_count": 23,
   "metadata": {
    "scrolled": true
   },
   "outputs": [
    {
     "data": {
      "text/plain": [
       "artist_mbtags\n",
       "alternative rock               42\n",
       "american                       93\n",
       "british                        82\n",
       "classic pop and rock          123\n",
       "country                        45\n",
       "finnish                        50\n",
       "folk                           57\n",
       "french                         39\n",
       "german                         52\n",
       "hip hop rnb and dance hall    121\n",
       "jazz and blues                 36\n",
       "pop and chart                  64\n",
       "production music               22\n",
       "punk                           44\n",
       "rock                           54\n",
       "rock and indie                124\n",
       "soul and reggae                43\n",
       "uk                            106\n",
       "Name: artist_mbtags, dtype: int64"
      ]
     },
     "execution_count": 23,
     "metadata": {},
     "output_type": "execute_result"
    }
   ],
   "source": [
    "#View a list of genres to choose from\n",
    "indata1['artist_mbtags'].groupby(indata1['artist_mbtags']).count()"
   ]
  },
  {
   "cell_type": "markdown",
   "metadata": {},
   "source": [
    "*Choose three genres to investigate and create a hypothesis about them related to the prompt above. Include a theoretical rationale justifying your hypothesis in terms of the data source and/or the genres themselves and write both the hypothesis and justification (in words) in the cell below.*\n",
    "\n",
    "**Prompt 1 Hypothesis:**"
   ]
  },
  {
   "cell_type": "markdown",
   "metadata": {},
   "source": [
    "> The number of songs released in the genres \"folk\", \"rock\" and \"soul and reggae\" were distributed differently across the decades of the 80s, 90s and 2000s. Of the three, soul and reggae is likely to be more closely tied to individual time periods and less consistent across the decades."
   ]
  },
  {
   "cell_type": "markdown",
   "metadata": {},
   "source": [
    "*Formally state the null (H0) hypotheses in the cell below.*\n",
    "\n",
    "**Prompt 1 Null Hypotheses:**"
   ]
  },
  {
   "cell_type": "markdown",
   "metadata": {},
   "source": [
    "> H0: Folk, rock, and soul and reggae music do not differ in their distribution across decades."
   ]
  },
  {
   "cell_type": "code",
   "execution_count": 26,
   "metadata": {},
   "outputs": [
    {
     "data": {
      "text/html": [
       "<div>\n",
       "<style scoped>\n",
       "    .dataframe tbody tr th:only-of-type {\n",
       "        vertical-align: middle;\n",
       "    }\n",
       "\n",
       "    .dataframe tbody tr th {\n",
       "        vertical-align: top;\n",
       "    }\n",
       "\n",
       "    .dataframe thead th {\n",
       "        text-align: right;\n",
       "    }\n",
       "</style>\n",
       "<table border=\"1\" class=\"dataframe\">\n",
       "  <thead>\n",
       "    <tr style=\"text-align: right;\">\n",
       "      <th></th>\n",
       "      <th>Unnamed: 0</th>\n",
       "      <th>song_id</th>\n",
       "      <th>artist_id</th>\n",
       "      <th>artist_name</th>\n",
       "      <th>artist_familiarity</th>\n",
       "      <th>artist_hotttnesss</th>\n",
       "      <th>title</th>\n",
       "      <th>song_hotttnesss</th>\n",
       "      <th>year</th>\n",
       "      <th>duration</th>\n",
       "      <th>loudness</th>\n",
       "      <th>tempo</th>\n",
       "      <th>artist_mbtags</th>\n",
       "      <th>release</th>\n",
       "      <th>release_7digitalid</th>\n",
       "      <th>decade</th>\n",
       "      <th>keep</th>\n",
       "    </tr>\n",
       "  </thead>\n",
       "  <tbody>\n",
       "    <tr>\n",
       "      <th>2</th>\n",
       "      <td>14</td>\n",
       "      <td>SOBONFF12A6D4F84D8</td>\n",
       "      <td>ARIK43K1187B9AE54C</td>\n",
       "      <td>Lionel Richie</td>\n",
       "      <td>0.776676</td>\n",
       "      <td>0.553072</td>\n",
       "      <td>Tonight Will Be Alright</td>\n",
       "      <td>NaN</td>\n",
       "      <td>1986</td>\n",
       "      <td>307.38240</td>\n",
       "      <td>-8.346</td>\n",
       "      <td>125.197</td>\n",
       "      <td>soul and reggae</td>\n",
       "      <td>Dancing On The Ceiling</td>\n",
       "      <td>25811</td>\n",
       "      <td>80s</td>\n",
       "      <td>1</td>\n",
       "    </tr>\n",
       "    <tr>\n",
       "      <th>8</th>\n",
       "      <td>47</td>\n",
       "      <td>SOTSETT12AB01863B8</td>\n",
       "      <td>AR5U94U1187FB5CDCF</td>\n",
       "      <td>John Hammond</td>\n",
       "      <td>0.590693</td>\n",
       "      <td>0.452818</td>\n",
       "      <td>I Can't Be Satisfied</td>\n",
       "      <td>NaN</td>\n",
       "      <td>2002</td>\n",
       "      <td>195.31710</td>\n",
       "      <td>-10.700</td>\n",
       "      <td>123.142</td>\n",
       "      <td>folk</td>\n",
       "      <td>Bluesman</td>\n",
       "      <td>575531</td>\n",
       "      <td>00s</td>\n",
       "      <td>1</td>\n",
       "    </tr>\n",
       "    <tr>\n",
       "      <th>11</th>\n",
       "      <td>55</td>\n",
       "      <td>SODHVES12A6701CE6B</td>\n",
       "      <td>AR3793X1187FB50CB3</td>\n",
       "      <td>Chris Rea</td>\n",
       "      <td>0.643183</td>\n",
       "      <td>0.500691</td>\n",
       "      <td>Driving Home For Christmas</td>\n",
       "      <td>0.767728</td>\n",
       "      <td>1986</td>\n",
       "      <td>241.16200</td>\n",
       "      <td>-8.531</td>\n",
       "      <td>180.149</td>\n",
       "      <td>rock</td>\n",
       "      <td>The Road To Hell Part 2</td>\n",
       "      <td>17220</td>\n",
       "      <td>80s</td>\n",
       "      <td>1</td>\n",
       "    </tr>\n",
       "    <tr>\n",
       "      <th>21</th>\n",
       "      <td>94</td>\n",
       "      <td>SORWHWY12A6702038E</td>\n",
       "      <td>ARXWAQQ1187B9AE954</td>\n",
       "      <td>Redman</td>\n",
       "      <td>0.743130</td>\n",
       "      <td>0.493567</td>\n",
       "      <td>WKYA (drop)</td>\n",
       "      <td>0.570106</td>\n",
       "      <td>2001</td>\n",
       "      <td>124.18567</td>\n",
       "      <td>-10.296</td>\n",
       "      <td>85.008</td>\n",
       "      <td>soul and reggae</td>\n",
       "      <td>Malpractice</td>\n",
       "      <td>8552</td>\n",
       "      <td>00s</td>\n",
       "      <td>1</td>\n",
       "    </tr>\n",
       "    <tr>\n",
       "      <th>29</th>\n",
       "      <td>115</td>\n",
       "      <td>SOFRAZJ12A8C143CDB</td>\n",
       "      <td>ARR9XGB1187B9912E6</td>\n",
       "      <td>Boyz II Men</td>\n",
       "      <td>0.790923</td>\n",
       "      <td>0.601185</td>\n",
       "      <td>On Bended Knee</td>\n",
       "      <td>0.345802</td>\n",
       "      <td>1994</td>\n",
       "      <td>329.27302</td>\n",
       "      <td>-7.103</td>\n",
       "      <td>116.473</td>\n",
       "      <td>soul and reggae</td>\n",
       "      <td>Legacy</td>\n",
       "      <td>523481</td>\n",
       "      <td>90s</td>\n",
       "      <td>1</td>\n",
       "    </tr>\n",
       "  </tbody>\n",
       "</table>\n",
       "</div>"
      ],
      "text/plain": [
       "    Unnamed: 0             song_id           artist_id    artist_name  \\\n",
       "2           14  SOBONFF12A6D4F84D8  ARIK43K1187B9AE54C  Lionel Richie   \n",
       "8           47  SOTSETT12AB01863B8  AR5U94U1187FB5CDCF   John Hammond   \n",
       "11          55  SODHVES12A6701CE6B  AR3793X1187FB50CB3      Chris Rea   \n",
       "21          94  SORWHWY12A6702038E  ARXWAQQ1187B9AE954         Redman   \n",
       "29         115  SOFRAZJ12A8C143CDB  ARR9XGB1187B9912E6    Boyz II Men   \n",
       "\n",
       "    artist_familiarity  artist_hotttnesss                       title  \\\n",
       "2             0.776676           0.553072     Tonight Will Be Alright   \n",
       "8             0.590693           0.452818        I Can't Be Satisfied   \n",
       "11            0.643183           0.500691  Driving Home For Christmas   \n",
       "21            0.743130           0.493567                 WKYA (drop)   \n",
       "29            0.790923           0.601185              On Bended Knee   \n",
       "\n",
       "    song_hotttnesss  year   duration  loudness    tempo    artist_mbtags  \\\n",
       "2               NaN  1986  307.38240    -8.346  125.197  soul and reggae   \n",
       "8               NaN  2002  195.31710   -10.700  123.142             folk   \n",
       "11         0.767728  1986  241.16200    -8.531  180.149             rock   \n",
       "21         0.570106  2001  124.18567   -10.296   85.008  soul and reggae   \n",
       "29         0.345802  1994  329.27302    -7.103  116.473  soul and reggae   \n",
       "\n",
       "                    release  release_7digitalid decade  keep  \n",
       "2    Dancing On The Ceiling               25811    80s     1  \n",
       "8                  Bluesman              575531    00s     1  \n",
       "11  The Road To Hell Part 2               17220    80s     1  \n",
       "21              Malpractice                8552    00s     1  \n",
       "29                   Legacy              523481    90s     1  "
      ]
     },
     "execution_count": 26,
     "metadata": {},
     "output_type": "execute_result"
    }
   ],
   "source": [
    "#Restrict to key genres by ***replacing sample with your genres of interest***\n",
    "genres = ['folk','rock','soul and reggae']\n",
    "\n",
    "def genreIndicator(row):\n",
    "    temp = 0\n",
    "    for genre in genres:\n",
    "        if row['artist_mbtags']==genre:\n",
    "            temp += 1\n",
    "    return temp\n",
    "\n",
    "indata1['keep']=indata1.apply(genreIndicator,axis=1)\n",
    "\n",
    "indata1 = indata1[indata1['keep'] != 0]\n",
    "indata1.head()"
   ]
  },
  {
   "cell_type": "markdown",
   "metadata": {},
   "source": [
    "*Test your hypotheses using the appropriate statistical test. You do not need to worry about missing data here.*"
   ]
  },
  {
   "cell_type": "code",
   "execution_count": 27,
   "metadata": {},
   "outputs": [
    {
     "data": {
      "text/html": [
       "<div>\n",
       "<style scoped>\n",
       "    .dataframe tbody tr th:only-of-type {\n",
       "        vertical-align: middle;\n",
       "    }\n",
       "\n",
       "    .dataframe tbody tr th {\n",
       "        vertical-align: top;\n",
       "    }\n",
       "\n",
       "    .dataframe thead th {\n",
       "        text-align: right;\n",
       "    }\n",
       "</style>\n",
       "<table border=\"1\" class=\"dataframe\">\n",
       "  <thead>\n",
       "    <tr style=\"text-align: right;\">\n",
       "      <th>artist_mbtags</th>\n",
       "      <th>folk</th>\n",
       "      <th>rock</th>\n",
       "      <th>soul and reggae</th>\n",
       "    </tr>\n",
       "    <tr>\n",
       "      <th>decade</th>\n",
       "      <th></th>\n",
       "      <th></th>\n",
       "      <th></th>\n",
       "    </tr>\n",
       "  </thead>\n",
       "  <tbody>\n",
       "    <tr>\n",
       "      <th>00s</th>\n",
       "      <td>31</td>\n",
       "      <td>33</td>\n",
       "      <td>32</td>\n",
       "    </tr>\n",
       "    <tr>\n",
       "      <th>80s</th>\n",
       "      <td>7</td>\n",
       "      <td>6</td>\n",
       "      <td>3</td>\n",
       "    </tr>\n",
       "    <tr>\n",
       "      <th>90s</th>\n",
       "      <td>19</td>\n",
       "      <td>15</td>\n",
       "      <td>8</td>\n",
       "    </tr>\n",
       "  </tbody>\n",
       "</table>\n",
       "</div>"
      ],
      "text/plain": [
       "artist_mbtags  folk  rock  soul and reggae\n",
       "decade                                    \n",
       "00s              31    33               32\n",
       "80s               7     6                3\n",
       "90s              19    15                8"
      ]
     },
     "execution_count": 27,
     "metadata": {},
     "output_type": "execute_result"
    }
   ],
   "source": [
    "#run a crosstab table of genre and decade\n",
    "tab = pd.crosstab(indata1['decade'],indata1['artist_mbtags'])\n",
    "tab\n",
    "#it looks like soul and reggae may be different (relatively more common in 2000s than before)"
   ]
  },
  {
   "cell_type": "code",
   "execution_count": 29,
   "metadata": {},
   "outputs": [
    {
     "data": {
      "text/plain": [
       "(4.26062066503468,\n",
       " 0.37188218379120147,\n",
       " 4,\n",
       " array([[35.53246753, 33.66233766, 26.80519481],\n",
       "        [ 5.92207792,  5.61038961,  4.46753247],\n",
       "        [15.54545455, 14.72727273, 11.72727273]]))"
      ]
     },
     "execution_count": 29,
     "metadata": {},
     "output_type": "execute_result"
    }
   ],
   "source": [
    "#test hypothesis\n",
    "from scipy.stats.contingency import chi2_contingency\n",
    "chi2_contingency(tab)"
   ]
  },
  {
   "cell_type": "markdown",
   "metadata": {},
   "source": [
    "*Report the results of your null hypothesis test formally. What test did you use and what was the significance (p) value? Did you reject or fail to reject the null hypothesis?*\n",
    "\n",
    "**Prompt 1 Null Hypothesis Findings:**"
   ]
  },
  {
   "cell_type": "markdown",
   "metadata": {},
   "source": [
    "> Using a chi-squared test, I find a significance of p<0.37 and fail to reject the null hypothesis."
   ]
  },
  {
   "cell_type": "markdown",
   "metadata": {},
   "source": [
    "*Interpret the results of your null hypothesis test in words. What do your findings tell us about these genres (at least in the Million Song Data Subset)?*"
   ]
  },
  {
   "cell_type": "markdown",
   "metadata": {},
   "source": [
    "> There is not sufficient evidence to find a difference in the distribution of number of folk, rock and soul & reggae music across the 80s, 90s and 2000s."
   ]
  },
  {
   "cell_type": "markdown",
   "metadata": {},
   "source": [
    "*If you rejected the null hypothesis: describe one possible mechanism that might drive this difference (e.g. why would the distribution in the data across decades differ by genre).*\n",
    "\n",
    "*If you failed to reject the null hypothesis: describe one possible reason for the null finding (e.g. why wouldn't the distribution in the data across decades differ by genre).*\n",
    "\n",
    "*In either case, your explanation may include any combination of substantive, epistemological, or measurement issues.*\n",
    "\n",
    "**Prompt 1 Discussion of Findings:**"
   ]
  },
  {
   "cell_type": "markdown",
   "metadata": {},
   "source": [
    "> The small sample of songs with each tag may result in reduced statistical power to detect real differences. The crosstab and expected values appeared to differ, so it may just be an issue of incomplete data. This could have resulted from the combination of sampling songs for the Million Song Subset (1/100th of the original sample) and the restriction to only the first artist genre tag. Also, the analysis is at the song level while the tags are at the artist level, which may also reduce power."
   ]
  },
  {
   "cell_type": "markdown",
   "metadata": {},
   "source": [
    "## Prompt 2: Artist and Musical Characteristics\n",
    "\n",
    "***Investigate whether a musical characteristic (loudness, tempo, or duration) varies between two artists of your choice.***"
   ]
  },
  {
   "cell_type": "code",
   "execution_count": 1,
   "metadata": {
    "collapsed": true
   },
   "outputs": [],
   "source": [
    "import pandas as pd"
   ]
  },
  {
   "cell_type": "code",
   "execution_count": 2,
   "metadata": {
    "collapsed": true
   },
   "outputs": [],
   "source": [
    "#Download data for artists with 10 or more songs in the subset\n",
    "indata2 = pd.read_csv('https://raw.githubusercontent.com/ndporter/pythonDiSC/master/finalProject/DiSC_Million_Songs_Artists.csv')"
   ]
  },
  {
   "cell_type": "code",
   "execution_count": 3,
   "metadata": {},
   "outputs": [
    {
     "data": {
      "text/html": [
       "<div>\n",
       "<style scoped>\n",
       "    .dataframe tbody tr th:only-of-type {\n",
       "        vertical-align: middle;\n",
       "    }\n",
       "\n",
       "    .dataframe tbody tr th {\n",
       "        vertical-align: top;\n",
       "    }\n",
       "\n",
       "    .dataframe thead th {\n",
       "        text-align: right;\n",
       "    }\n",
       "</style>\n",
       "<table border=\"1\" class=\"dataframe\">\n",
       "  <thead>\n",
       "    <tr style=\"text-align: right;\">\n",
       "      <th></th>\n",
       "      <th>Unnamed: 0</th>\n",
       "      <th>Unnamed: 0.1</th>\n",
       "      <th>song_id</th>\n",
       "      <th>artist_id</th>\n",
       "      <th>artist_name</th>\n",
       "      <th>artist_familiarity</th>\n",
       "      <th>artist_hotttnesss</th>\n",
       "      <th>title</th>\n",
       "      <th>song_hotttnesss</th>\n",
       "      <th>year</th>\n",
       "      <th>duration</th>\n",
       "      <th>loudness</th>\n",
       "      <th>tempo</th>\n",
       "      <th>artist_mbtags</th>\n",
       "      <th>release</th>\n",
       "      <th>release_7digitalid</th>\n",
       "    </tr>\n",
       "  </thead>\n",
       "  <tbody>\n",
       "    <tr>\n",
       "      <th>0</th>\n",
       "      <td>71</td>\n",
       "      <td>71</td>\n",
       "      <td>SOVJXVJ12A8C13517D</td>\n",
       "      <td>ARCCRTI11F4C845308</td>\n",
       "      <td>White Heart</td>\n",
       "      <td>0.477365</td>\n",
       "      <td>0.337507</td>\n",
       "      <td>Where The Thunder Roars (Tales Of Wonder Album...</td>\n",
       "      <td>0.265861</td>\n",
       "      <td>0</td>\n",
       "      <td>298.84036</td>\n",
       "      <td>-9.998</td>\n",
       "      <td>113.277</td>\n",
       "      <td>none</td>\n",
       "      <td>Tales Of Wonder</td>\n",
       "      <td>148547</td>\n",
       "    </tr>\n",
       "    <tr>\n",
       "      <th>1</th>\n",
       "      <td>76</td>\n",
       "      <td>76</td>\n",
       "      <td>SOWHYUG12A58A77FAB</td>\n",
       "      <td>ARODBRG1187FB3FD99</td>\n",
       "      <td>Nick Cave &amp; The Bad Seeds</td>\n",
       "      <td>0.694022</td>\n",
       "      <td>0.479408</td>\n",
       "      <td>She Fell Away (2009 Digital Remaster)</td>\n",
       "      <td>NaN</td>\n",
       "      <td>0</td>\n",
       "      <td>269.26975</td>\n",
       "      <td>-11.751</td>\n",
       "      <td>144.603</td>\n",
       "      <td>seen live</td>\n",
       "      <td>Your Funeral... My Trial (2009 Digital Remaster)</td>\n",
       "      <td>413222</td>\n",
       "    </tr>\n",
       "    <tr>\n",
       "      <th>2</th>\n",
       "      <td>270</td>\n",
       "      <td>270</td>\n",
       "      <td>SOTVEKK12A8C1392E1</td>\n",
       "      <td>ARX9YIP1187B98A656</td>\n",
       "      <td>RUN-DMC</td>\n",
       "      <td>0.686989</td>\n",
       "      <td>0.606630</td>\n",
       "      <td>Hard Times</td>\n",
       "      <td>NaN</td>\n",
       "      <td>1984</td>\n",
       "      <td>234.65751</td>\n",
       "      <td>-12.750</td>\n",
       "      <td>119.670</td>\n",
       "      <td>hip-hop</td>\n",
       "      <td>Run DMC</td>\n",
       "      <td>293884</td>\n",
       "    </tr>\n",
       "    <tr>\n",
       "      <th>3</th>\n",
       "      <td>344</td>\n",
       "      <td>344</td>\n",
       "      <td>SOUPIRU12A6D4FA1E1</td>\n",
       "      <td>ARJIE2Y1187B994AB7</td>\n",
       "      <td>Line Renaud</td>\n",
       "      <td>0.470212</td>\n",
       "      <td>0.320087</td>\n",
       "      <td>Der Kleine Dompfaff</td>\n",
       "      <td>NaN</td>\n",
       "      <td>0</td>\n",
       "      <td>152.92036</td>\n",
       "      <td>-9.843</td>\n",
       "      <td>124.750</td>\n",
       "      <td>none</td>\n",
       "      <td>Platinum Line Renaud</td>\n",
       "      <td>272703</td>\n",
       "    </tr>\n",
       "    <tr>\n",
       "      <th>4</th>\n",
       "      <td>406</td>\n",
       "      <td>406</td>\n",
       "      <td>SOGXQRO12A8AE47D50</td>\n",
       "      <td>ARN03F71187FB4E3F4</td>\n",
       "      <td>Ayo</td>\n",
       "      <td>0.522590</td>\n",
       "      <td>0.390641</td>\n",
       "      <td>Complain</td>\n",
       "      <td>0.000000</td>\n",
       "      <td>2006</td>\n",
       "      <td>212.71465</td>\n",
       "      <td>-11.260</td>\n",
       "      <td>128.689</td>\n",
       "      <td>soul and reggae</td>\n",
       "      <td>Joyful</td>\n",
       "      <td>350343</td>\n",
       "    </tr>\n",
       "  </tbody>\n",
       "</table>\n",
       "</div>"
      ],
      "text/plain": [
       "   Unnamed: 0  Unnamed: 0.1             song_id           artist_id  \\\n",
       "0          71            71  SOVJXVJ12A8C13517D  ARCCRTI11F4C845308   \n",
       "1          76            76  SOWHYUG12A58A77FAB  ARODBRG1187FB3FD99   \n",
       "2         270           270  SOTVEKK12A8C1392E1  ARX9YIP1187B98A656   \n",
       "3         344           344  SOUPIRU12A6D4FA1E1  ARJIE2Y1187B994AB7   \n",
       "4         406           406  SOGXQRO12A8AE47D50  ARN03F71187FB4E3F4   \n",
       "\n",
       "                 artist_name  artist_familiarity  artist_hotttnesss  \\\n",
       "0                White Heart            0.477365           0.337507   \n",
       "1  Nick Cave & The Bad Seeds            0.694022           0.479408   \n",
       "2                    RUN-DMC            0.686989           0.606630   \n",
       "3                Line Renaud            0.470212           0.320087   \n",
       "4                        Ayo            0.522590           0.390641   \n",
       "\n",
       "                                               title  song_hotttnesss  year  \\\n",
       "0  Where The Thunder Roars (Tales Of Wonder Album...         0.265861     0   \n",
       "1              She Fell Away (2009 Digital Remaster)              NaN     0   \n",
       "2                                         Hard Times              NaN  1984   \n",
       "3                                Der Kleine Dompfaff              NaN     0   \n",
       "4                                           Complain         0.000000  2006   \n",
       "\n",
       "    duration  loudness    tempo    artist_mbtags  \\\n",
       "0  298.84036    -9.998  113.277             none   \n",
       "1  269.26975   -11.751  144.603        seen live   \n",
       "2  234.65751   -12.750  119.670          hip-hop   \n",
       "3  152.92036    -9.843  124.750             none   \n",
       "4  212.71465   -11.260  128.689  soul and reggae   \n",
       "\n",
       "                                            release  release_7digitalid  \n",
       "0                                   Tales Of Wonder              148547  \n",
       "1  Your Funeral... My Trial (2009 Digital Remaster)              413222  \n",
       "2                                           Run DMC              293884  \n",
       "3                              Platinum Line Renaud              272703  \n",
       "4                                            Joyful              350343  "
      ]
     },
     "execution_count": 3,
     "metadata": {},
     "output_type": "execute_result"
    }
   ],
   "source": [
    "indata2.head()"
   ]
  },
  {
   "cell_type": "code",
   "execution_count": 5,
   "metadata": {
    "collapsed": true
   },
   "outputs": [],
   "source": [
    "#remove missing data on all variables\n",
    "vars = ['loudness','tempo','duration']\n",
    "indata2 = indata2.dropna(subset=vars) #defined Nan\n",
    "for var in vars:\n",
    "    indata2 = indata2[indata2[var]!=0] #missing set to zero"
   ]
  },
  {
   "cell_type": "code",
   "execution_count": 6,
   "metadata": {},
   "outputs": [
    {
     "data": {
      "text/plain": [
       "artist_name\n",
       "Aerosmith                                12\n",
       "Ayo                                      10\n",
       "Bill & Gloria Gaither                    11\n",
       "Jacques Douai                            10\n",
       "Line Renaud                              11\n",
       "Mario Rosenstock                         13\n",
       "Michael Jackson                          10\n",
       "Mikey Dread                              11\n",
       "Nick Cave & The Bad Seeds                11\n",
       "Phil Collins                             12\n",
       "Pumpkin Buzzard                          10\n",
       "RUN-DMC                                  10\n",
       "Radiohead                                11\n",
       "Red Hot Chili Peppers                    10\n",
       "Selena                                   10\n",
       "Shakira                                  10\n",
       "Snow Patrol                              11\n",
       "Stevie Ray Vaughan And Double Trouble    10\n",
       "Sugar Minott                             12\n",
       "The Del McCoury Band                     10\n",
       "The Jackson Southernaires                12\n",
       "White Heart                              10\n",
       "Name: artist_name, dtype: int64"
      ]
     },
     "execution_count": 6,
     "metadata": {},
     "output_type": "execute_result"
    }
   ],
   "source": [
    "#Display all artists to choose from\n",
    "indata2['artist_name'].groupby(indata2['artist_name']).count()"
   ]
  },
  {
   "cell_type": "markdown",
   "metadata": {},
   "source": [
    "*Choose two artists to investigate and create a hypothesis about them related to the prompt above. Include a rationale justifying your hypothesis in terms of the data source and/or the artists themselves and write both the hypothesis and justification (in words) in the cell below.*\n",
    "\n",
    "**Prompt 2 Hypothesis:**"
   ]
  },
  {
   "cell_type": "markdown",
   "metadata": {},
   "source": [
    "> I hypothesize that RUN-DMC's music is louder than Bill and Gloria Gaither's because Hip-Hop tends to be louder (or at least played louder) than Gospel."
   ]
  },
  {
   "cell_type": "markdown",
   "metadata": {},
   "source": [
    "*Formally state the null (H0) hypotheses in the cell below.*\n",
    "\n",
    "**Prompt 2 Null Hypotheses:**"
   ]
  },
  {
   "cell_type": "markdown",
   "metadata": {},
   "source": [
    "> RUN-DMC does not have higher mean loudness than Bill and Gloria Gaither."
   ]
  },
  {
   "cell_type": "markdown",
   "metadata": {},
   "source": [
    "*Test your hypotheses using the appropriate statistical test. You do not need to worry about missing data here.*"
   ]
  },
  {
   "cell_type": "code",
   "execution_count": 10,
   "metadata": {},
   "outputs": [
    {
     "name": "stdout",
     "output_type": "stream",
     "text": [
      "gaither mean: -13.38881818181818\n",
      "run-dmc mean: -9.5013\n"
     ]
    }
   ],
   "source": [
    "#create subsets to compare\n",
    "gaither = indata2[indata2['artist_name']=='Bill & Gloria Gaither']\n",
    "run = indata2[indata2['artist_name']=='RUN-DMC']\n",
    "print('gaither mean:',gaither['loudness'].mean())\n",
    "print('run-dmc mean:',run['loudness'].mean())"
   ]
  },
  {
   "cell_type": "code",
   "execution_count": 11,
   "metadata": {},
   "outputs": [
    {
     "data": {
      "text/plain": [
       "(-2.6179667186158575, 0.016923139260728696, 19.0)"
      ]
     },
     "execution_count": 11,
     "metadata": {},
     "output_type": "execute_result"
    }
   ],
   "source": [
    "#at least in the sample, my hypothesis appears to be correct; the mean loudness for run is higher\n",
    "#let's see if we have the statistical power to draw a conclusion\n",
    "#Test the difference of means using a T-test\n",
    "import statsmodels.stats.weightstats as stats\n",
    "stats.ttest_ind(gaither['loudness'],run['loudness'])"
   ]
  },
  {
   "cell_type": "markdown",
   "metadata": {},
   "source": [
    "*Report the results of your null hypothesis test formally. What test did you use and what was the significance (p) value? Did you reject or fail to reject the null hypothesis?*\n",
    "\n",
    "**Prompt 2 Null Hypothesis Findings:**"
   ]
  },
  {
   "cell_type": "markdown",
   "metadata": {},
   "source": [
    "> Using a t-test of the difference of means, I reject the null hypothesis with a p-value of 0.017."
   ]
  },
  {
   "cell_type": "markdown",
   "metadata": {},
   "source": [
    "*Interpret the results of your null hypothesis test in words. What do your findings tell us about these artists (at least in the Million Song Data Subset)?*"
   ]
  },
  {
   "cell_type": "markdown",
   "metadata": {},
   "source": [
    "> I find a significant difference in mean loudness between RUN-DMC and Bill and Gloria Gaither, with RUN-DMC being louder. At least for these two artists, the patterns of loudness of recordings tends to mirror stereotypical patterns of preference for loudness, with hip-hop being louder than gospel."
   ]
  },
  {
   "cell_type": "markdown",
   "metadata": {},
   "source": [
    "*If you rejected the null hypothesis: describe one possible mechanism that might drive this difference (e.g. why would the variable's values differ between the two artists).*\n",
    "\n",
    "*If you failed to reject the null hypothesis: describe one possible reason for the null finding (e.g. why wouldn't the variable's values differ between the two artists).*\n",
    "\n",
    "*In either case, your explanation may include any combination of substantive, epistemological, or measurement issues.*\n",
    "\n",
    "**Prompt 2 Discussion of Findings:**"
   ]
  },
  {
   "cell_type": "markdown",
   "metadata": {},
   "source": [
    "> This seems unlikely to be an artifact of measurement, given that the variable was created automatically based on measured volume in the songs. Instead, it probably reflects the differing preferences of fans of different genres of music and/or the differences in the capabilities of the equipment they tend to use for playback."
   ]
  },
  {
   "cell_type": "markdown",
   "metadata": {},
   "source": [
    "# Prompt 3: Year and Hotttnesss/Familiarity\n",
    "\n",
    "***There has been some speculation in this class that the hotttnesss and familiarity measurement in the dataset might be biased toward music that was newer  when the dataset was collected (2010). Investigate the relationship between year (not recoded) and the three variables to test whether there is reason to further investigate the potential for such bias.***"
   ]
  },
  {
   "cell_type": "code",
   "execution_count": 33,
   "metadata": {
    "collapsed": true
   },
   "outputs": [],
   "source": [
    "import pandas as pd"
   ]
  },
  {
   "cell_type": "code",
   "execution_count": 34,
   "metadata": {
    "collapsed": true
   },
   "outputs": [],
   "source": [
    "#Download data for the full subset\n",
    "indata3 = pd.read_csv('https://raw.githubusercontent.com/ndporter/pythonDiSC/master/finalProject/DiSC_Million_Songs_Data.csv')"
   ]
  },
  {
   "cell_type": "code",
   "execution_count": 39,
   "metadata": {},
   "outputs": [
    {
     "data": {
      "text/html": [
       "<div>\n",
       "<style scoped>\n",
       "    .dataframe tbody tr th:only-of-type {\n",
       "        vertical-align: middle;\n",
       "    }\n",
       "\n",
       "    .dataframe tbody tr th {\n",
       "        vertical-align: top;\n",
       "    }\n",
       "\n",
       "    .dataframe thead th {\n",
       "        text-align: right;\n",
       "    }\n",
       "</style>\n",
       "<table border=\"1\" class=\"dataframe\">\n",
       "  <thead>\n",
       "    <tr style=\"text-align: right;\">\n",
       "      <th></th>\n",
       "      <th>year</th>\n",
       "      <th>song_hotttnesss</th>\n",
       "      <th>artist_hotttnesss</th>\n",
       "      <th>artist_familiarity</th>\n",
       "    </tr>\n",
       "  </thead>\n",
       "  <tbody>\n",
       "    <tr>\n",
       "      <th>4</th>\n",
       "      <td>2007</td>\n",
       "      <td>0.604501</td>\n",
       "      <td>0.401724</td>\n",
       "      <td>0.651046</td>\n",
       "    </tr>\n",
       "    <tr>\n",
       "      <th>8</th>\n",
       "      <td>1984</td>\n",
       "      <td>0.265861</td>\n",
       "      <td>0.332276</td>\n",
       "      <td>0.426668</td>\n",
       "    </tr>\n",
       "    <tr>\n",
       "      <th>15</th>\n",
       "      <td>1987</td>\n",
       "      <td>0.405116</td>\n",
       "      <td>0.447935</td>\n",
       "      <td>0.636424</td>\n",
       "    </tr>\n",
       "    <tr>\n",
       "      <th>18</th>\n",
       "      <td>2004</td>\n",
       "      <td>0.684136</td>\n",
       "      <td>0.513463</td>\n",
       "      <td>0.707200</td>\n",
       "    </tr>\n",
       "    <tr>\n",
       "      <th>23</th>\n",
       "      <td>2004</td>\n",
       "      <td>0.666528</td>\n",
       "      <td>0.541889</td>\n",
       "      <td>0.839963</td>\n",
       "    </tr>\n",
       "  </tbody>\n",
       "</table>\n",
       "</div>"
      ],
      "text/plain": [
       "    year  song_hotttnesss  artist_hotttnesss  artist_familiarity\n",
       "4   2007         0.604501           0.401724            0.651046\n",
       "8   1984         0.265861           0.332276            0.426668\n",
       "15  1987         0.405116           0.447935            0.636424\n",
       "18  2004         0.684136           0.513463            0.707200\n",
       "23  2004         0.666528           0.541889            0.839963"
      ]
     },
     "execution_count": 39,
     "metadata": {},
     "output_type": "execute_result"
    }
   ],
   "source": [
    "indata3.head()"
   ]
  },
  {
   "cell_type": "code",
   "execution_count": 38,
   "metadata": {
    "collapsed": true
   },
   "outputs": [],
   "source": [
    "#remove missing data on all variables\n",
    "vars = ['year','song_hotttnesss','artist_hotttnesss','artist_familiarity']\n",
    "indata3 = indata3.dropna(subset=vars) #defined NaN\n",
    "for var in vars:\n",
    "    indata3 = indata3[indata3[var]!=0] #missing set to zero\n",
    "indata3 = indata3[vars] #drop exra variables"
   ]
  },
  {
   "cell_type": "markdown",
   "metadata": {},
   "source": [
    "*Choose one variable (song_hotttnesss, artist_hotttnesss or artist_familiarity) to investigate and create a hypothesis about its relationship to year based on the prompt above. Include a rationale justifying your hypothesis in terms of the data source and/or the artists themselves and write both the hypothesis and justification (in words) in the cell below.*\n",
    "\n",
    "**Prompt 3 Hypothesis:**"
   ]
  },
  {
   "cell_type": "markdown",
   "metadata": {},
   "source": [
    "> I hypothesize that song_hotttnesss will have a positive association with year because more recent music is more likely to be considered hot in whatever metric last.fm used."
   ]
  },
  {
   "cell_type": "markdown",
   "metadata": {},
   "source": [
    "*Formally state the null (H0) hypotheses in the cell below.*\n",
    "\n",
    "**Prompt 3 Null Hypotheses:**"
   ]
  },
  {
   "cell_type": "markdown",
   "metadata": {},
   "source": [
    "> H0: Song_hotttnesss does not have a positive association with year"
   ]
  },
  {
   "cell_type": "markdown",
   "metadata": {
    "collapsed": true
   },
   "source": [
    "*Create a correlation matrix of all variables (note that year is in calendar years, not decades like in prompt 1)*"
   ]
  },
  {
   "cell_type": "code",
   "execution_count": 40,
   "metadata": {},
   "outputs": [
    {
     "data": {
      "text/html": [
       "<div>\n",
       "<style scoped>\n",
       "    .dataframe tbody tr th:only-of-type {\n",
       "        vertical-align: middle;\n",
       "    }\n",
       "\n",
       "    .dataframe tbody tr th {\n",
       "        vertical-align: top;\n",
       "    }\n",
       "\n",
       "    .dataframe thead th {\n",
       "        text-align: right;\n",
       "    }\n",
       "</style>\n",
       "<table border=\"1\" class=\"dataframe\">\n",
       "  <thead>\n",
       "    <tr style=\"text-align: right;\">\n",
       "      <th></th>\n",
       "      <th>year</th>\n",
       "      <th>song_hotttnesss</th>\n",
       "      <th>artist_hotttnesss</th>\n",
       "      <th>artist_familiarity</th>\n",
       "    </tr>\n",
       "  </thead>\n",
       "  <tbody>\n",
       "    <tr>\n",
       "      <th>year</th>\n",
       "      <td>1.000000</td>\n",
       "      <td>0.065018</td>\n",
       "      <td>0.071455</td>\n",
       "      <td>0.102442</td>\n",
       "    </tr>\n",
       "    <tr>\n",
       "      <th>song_hotttnesss</th>\n",
       "      <td>0.065018</td>\n",
       "      <td>1.000000</td>\n",
       "      <td>0.459118</td>\n",
       "      <td>0.499423</td>\n",
       "    </tr>\n",
       "    <tr>\n",
       "      <th>artist_hotttnesss</th>\n",
       "      <td>0.071455</td>\n",
       "      <td>0.459118</td>\n",
       "      <td>1.000000</td>\n",
       "      <td>0.782037</td>\n",
       "    </tr>\n",
       "    <tr>\n",
       "      <th>artist_familiarity</th>\n",
       "      <td>0.102442</td>\n",
       "      <td>0.499423</td>\n",
       "      <td>0.782037</td>\n",
       "      <td>1.000000</td>\n",
       "    </tr>\n",
       "  </tbody>\n",
       "</table>\n",
       "</div>"
      ],
      "text/plain": [
       "                        year  song_hotttnesss  artist_hotttnesss  \\\n",
       "year                1.000000         0.065018           0.071455   \n",
       "song_hotttnesss     0.065018         1.000000           0.459118   \n",
       "artist_hotttnesss   0.071455         0.459118           1.000000   \n",
       "artist_familiarity  0.102442         0.499423           0.782037   \n",
       "\n",
       "                    artist_familiarity  \n",
       "year                          0.102442  \n",
       "song_hotttnesss               0.499423  \n",
       "artist_hotttnesss             0.782037  \n",
       "artist_familiarity            1.000000  "
      ]
     },
     "execution_count": 40,
     "metadata": {},
     "output_type": "execute_result"
    }
   ],
   "source": [
    "#Use pandas to get correlation matrix for all variables\n",
    "corrMatr = indata3.corr()\n",
    "corrMatr"
   ]
  },
  {
   "cell_type": "markdown",
   "metadata": {
    "collapsed": true
   },
   "source": [
    "*Interpret the sign and relative sizes of the correlations of year with all three other variables. You do not need to discuss significance yet.* "
   ]
  },
  {
   "cell_type": "markdown",
   "metadata": {},
   "source": [
    "> All three song and artist variables are positively correlated with year, although the correlations are relatively small, the largest being 0.102 for artist_familiarity and year. Thus more recent music (and the artists that published it) tend to be rated more highly on both hotttnesss and familiarity."
   ]
  },
  {
   "cell_type": "markdown",
   "metadata": {
    "collapsed": true
   },
   "source": [
    "*Test your hypothesis using the appropriate statistical test. You do not need to worry about missing data here.*"
   ]
  },
  {
   "cell_type": "code",
   "execution_count": 44,
   "metadata": {},
   "outputs": [
    {
     "data": {
      "text/plain": [
       "(0.06501756123228783, 0.0007270482408098302)"
      ]
     },
     "execution_count": 44,
     "metadata": {},
     "output_type": "execute_result"
    }
   ],
   "source": [
    "#use scipy to get p-value for hypothesis testing\n",
    "import scipy.stats  as stats\n",
    "stats.pearsonr(indata3['year'], indata3['song_hotttnesss'])"
   ]
  },
  {
   "cell_type": "markdown",
   "metadata": {
    "collapsed": true
   },
   "source": [
    "*Report the results of your null hypothesis test formally. What test did you use and what was the significance (p) value? Did you reject or fail to reject the null hypothesis?*\n",
    "\n",
    "**Prompt 3 Null Hypothesis Findings:**"
   ]
  },
  {
   "cell_type": "markdown",
   "metadata": {
    "collapsed": true
   },
   "source": [
    "> I use Pearson's correlation and reject the null hypothesis (p<0.0007)."
   ]
  },
  {
   "cell_type": "markdown",
   "metadata": {
    "collapsed": true
   },
   "source": [
    "*Interpret the results of your null hypothesis test in words. What do your findings tell us about the variables and/or data?*"
   ]
  },
  {
   "cell_type": "markdown",
   "metadata": {
    "collapsed": true
   },
   "source": [
    "> I conclude that there is a positive association between year and song_hotttnesss."
   ]
  },
  {
   "cell_type": "markdown",
   "metadata": {
    "collapsed": true
   },
   "source": [
    "*If you rejected the null hypothesis: describe one possible mechanism that might drive this difference (e.g. why would the variable's values in the data differ across years).*\n",
    "\n",
    "*If you failed to reject the null hypothesis: describe one possible reason for the null finding (e.g. why wouldn't the variable's values in the data differ across years).*\n",
    "\n",
    "*In either case, your explanation may include any combination of substantive, epistemological, or measurement issues.*\n",
    "\n",
    "**Prompt 3 Discussion of Findings:**"
   ]
  },
  {
   "cell_type": "markdown",
   "metadata": {
    "collapsed": true
   },
   "source": [
    "> I suspect that, like the prompt suggested, there is a recency bias in the ratings contained in the sources of the million song data. Based on this, I would recommmend that others interested in using the data are cautious about interpreting the hotttnesss and familiarity measures as indicative of anything broader than the situation when the data were collected in 2010."
   ]
  }
 ],
 "metadata": {
  "kernelspec": {
   "display_name": "Python 3",
   "language": "python",
   "name": "python3"
  },
  "language_info": {
   "codemirror_mode": {
    "name": "ipython",
    "version": 3
   },
   "file_extension": ".py",
   "mimetype": "text/x-python",
   "name": "python",
   "nbconvert_exporter": "python",
   "pygments_lexer": "ipython3",
   "version": "3.6.2"
  }
 },
 "nbformat": 4,
 "nbformat_minor": 2
}
