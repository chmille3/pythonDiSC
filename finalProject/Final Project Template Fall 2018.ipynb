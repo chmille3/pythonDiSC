{
 "cells": [
  {
   "cell_type": "markdown",
   "metadata": {},
   "source": [
    "# Jupyter Notebook for Final Assignment DiSC Fall 2018\n",
    "\n",
    "***Complete all of the prompts below. They will serve both as demonstrations of your technical/analytic skills and as source material for the substantive discussions in the remainder of your project. Download and rename this Jupyter notebook from the finalProject folder of the github, then follow the directions completely concerning each prompt.***\n",
    "\n",
    "*All data are drawn from the [Million Song Subset](https://labrosa.ee.columbia.edu/millionsong/).*\n",
    "\n",
    "*Please use a p<0.05 significance level for all hypothesis testing.*"
   ]
  },
  {
   "cell_type": "markdown",
   "metadata": {},
   "source": [
    "## Prompt 1: Genre and Decade\n",
    "\n",
    "***Some musical genres seem to be more enduring than others. Rock, Adult Contemporary, Country and Gospel/Christian are a few examples of genre labels that continue to be salient over many years, even if the style itself changes throughout that time. Choose 3 common genres to test whether songs (in the subset) are released with the same relative frequency across the 1980s, 1990s and 2000s between the three genres.***"
   ]
  },
  {
   "cell_type": "code",
   "execution_count": 2,
   "metadata": {},
   "outputs": [],
   "source": [
    "import pandas as pd"
   ]
  },
  {
   "cell_type": "code",
   "execution_count": 3,
   "metadata": {},
   "outputs": [],
   "source": [
    "#Download data for songs in genres with 50 or more songs in the subset\n",
    "indata1 = pd.read_csv('https://raw.githubusercontent.com/ndporter/pythonDiSC/master/finalProject/DiSC_Million_Songs_Popular_Tags.csv')"
   ]
  },
  {
   "cell_type": "code",
   "execution_count": 11,
   "metadata": {},
   "outputs": [],
   "source": [
    "#remove any data missing (e.g. equal to zero) on year\n",
    "indata1 = indata1[indata1['year']!=0]"
   ]
  },
  {
   "cell_type": "code",
   "execution_count": 12,
   "metadata": {},
   "outputs": [
    {
     "data": {
      "text/plain": [
       "artist_mbtags\n",
       "alternative rock               43\n",
       "american                      114\n",
       "british                       102\n",
       "classic pop and rock          167\n",
       "country                        68\n",
       "finnish                        55\n",
       "folk                           75\n",
       "french                         49\n",
       "german                         55\n",
       "hip hop rnb and dance hall    123\n",
       "jazz and blues                 39\n",
       "pop and chart                  64\n",
       "production music               23\n",
       "punk                           50\n",
       "rock                           63\n",
       "rock and indie                137\n",
       "soul and reggae                45\n",
       "uk                            136\n",
       "Name: artist_mbtags, dtype: int64"
      ]
     },
     "execution_count": 12,
     "metadata": {},
     "output_type": "execute_result"
    }
   ],
   "source": [
    "#View a list of genres to choose from\n",
    "indata1['artist_mbtags'].groupby(indata1['artist_mbtags']).count()"
   ]
  },
  {
   "cell_type": "markdown",
   "metadata": {},
   "source": [
    "*Choose three genres to investigate and create a hypothesis about them related to the prompt above. Include a theoretical rationale justifying your hypothesis in terms of the data source and/or the genres themselves and write both the hypothesis and justification (in words) in the cell below.*\n",
    "\n",
    "**Prompt 1 Hypothesis:**"
   ]
  },
  {
   "cell_type": "markdown",
   "metadata": {},
   "source": []
  },
  {
   "cell_type": "markdown",
   "metadata": {},
   "source": [
    "*Formally state the research (H1) and null (H0) hypotheses in the cell below.*\n",
    "\n",
    "**Prompt 1 Research and Null Hypotheses:**"
   ]
  },
  {
   "cell_type": "markdown",
   "metadata": {},
   "source": []
  },
  {
   "cell_type": "markdown",
   "metadata": {},
   "source": [
    "*Test your hypotheses using the appropriate statistical test. You do not need to worry about missing data here.*"
   ]
  },
  {
   "cell_type": "code",
   "execution_count": null,
   "metadata": {},
   "outputs": [],
   "source": []
  },
  {
   "cell_type": "markdown",
   "metadata": {},
   "source": [
    "*Report the results of your null hypothesis test formally. What test did you use and what was the significance (p) value? Did you reject or fail to reject the null hypothesis?*\n",
    "\n",
    "**Prompt 1 Null Hypothesis Findings:**"
   ]
  },
  {
   "cell_type": "markdown",
   "metadata": {},
   "source": []
  },
  {
   "cell_type": "markdown",
   "metadata": {},
   "source": [
    "*Interpret the results of your null hypothesis test in words. What do your findings tell us about these genres (at least in the Million Song Data Subset)?*"
   ]
  },
  {
   "cell_type": "markdown",
   "metadata": {},
   "source": []
  },
  {
   "cell_type": "markdown",
   "metadata": {},
   "source": [
    "*If you rejected the null hypothesis: describe one possible mechanism that might drive this difference (e.g. why would the distribution in the data across years differ by genre).*\n",
    "\n",
    "*If you failed to reject the null hypothesis: describe one possible reason for the null finding (e.g. why wouldn't the distribution in the data across years differ by genre.*\n",
    "\n",
    "*In either case, your explanation may include any combination of substantive, epistemological, or measurement issues.*\n",
    "\n",
    "**Prompt 1 Discussion of Findings:**"
   ]
  },
  {
   "cell_type": "markdown",
   "metadata": {},
   "source": []
  },
  {
   "cell_type": "markdown",
   "metadata": {},
   "source": [
    "***The remaining two prompts will go here. You will be expected to submit a single notebook for all three prompts, as well as a document answering the remaining questions in your final. The remaining questions will require you to further reflect on your analyses here. Please leave sufficient time to account for possible issues in completing the project and don't hesitatate to ask questions of Nathaniel Porter (ndporter@vt.edu) about the technical aspects. I am available Wednesdays 11-1 in the Data Transformation Lab, by email or by appointment in-person or online with Zoom.***"
   ]
  },
  {
   "cell_type": "code",
   "execution_count": null,
   "metadata": {},
   "outputs": [],
   "source": []
  }
 ],
 "metadata": {
  "kernelspec": {
   "display_name": "Python 3",
   "language": "python",
   "name": "python3"
  },
  "language_info": {
   "codemirror_mode": {
    "name": "ipython",
    "version": 3
   },
   "file_extension": ".py",
   "mimetype": "text/x-python",
   "name": "python",
   "nbconvert_exporter": "python",
   "pygments_lexer": "ipython3",
   "version": "3.6.6"
  }
 },
 "nbformat": 4,
 "nbformat_minor": 2
}
