{
 "cells": [
  {
   "cell_type": "markdown",
   "metadata": {},
   "source": [
    "# Jupyter Notebook for Final Assignment DiSC Fall 2018\n",
    "\n",
    "***Complete all of the prompts below. They will serve both as demonstrations of your technical/analytic skills and as source material for the substantive discussions in the remainder of your project. Download and rename this Jupyter notebook from the finalProject folder of the github, then follow the directions completely concerning each prompt.***\n",
    "\n",
    "*All data are drawn from the [Million Song Subset](https://labrosa.ee.columbia.edu/millionsong/).*\n",
    "\n",
    "*Please use a p<0.05 significance level for all hypothesis testing.*"
   ]
  },
  {
   "cell_type": "markdown",
   "metadata": {},
   "source": [
    "## Prompt 1: Genre and Decade\n",
    "\n",
    "***Some musical genres seem to be more enduring than others. Rock, Adult Contemporary, Country and Gospel/Christian are a few examples of genre labels that continue to be salient over many years, even if the style itself changes throughout that time. Choose 3 common genres to test whether songs (in the subset) are released with the same relative frequency across the 1980s, 1990s and 2000s between the three genres.***"
   ]
  },
  {
   "cell_type": "code",
   "execution_count": null,
   "metadata": {
    "collapsed": true
   },
   "outputs": [],
   "source": [
    "import pandas as pd"
   ]
  },
  {
   "cell_type": "code",
   "execution_count": null,
   "metadata": {
    "collapsed": true
   },
   "outputs": [],
   "source": [
    "#Download data for songs in genres with 50 or more songs in the subset\n",
    "indata1 = pd.read_csv('https://raw.githubusercontent.com/ndporter/pythonDiSC/master/finalProject/DiSC_Million_Songs_Popular_Tags.csv')"
   ]
  },
  {
   "cell_type": "code",
   "execution_count": null,
   "metadata": {},
   "outputs": [],
   "source": [
    "###Just run this cell and don't worry about what it means unless you're interested###\n",
    "\n",
    "#create decades variable\n",
    "#function to run on each row to create a (string) decade variable\n",
    "def makedecade(row):\n",
    "    if 1980<=row['year']<1990:\n",
    "        val='80s'\n",
    "    elif 1990<=row['year']<2000:\n",
    "        val='90s'\n",
    "    elif 2000<=row['year']<2010:\n",
    "        val='00s'\n",
    "    else:\n",
    "        val='missing'\n",
    "    return val\n",
    "#apply does the same thing to each column (axis=0) or row (axis=1) in the dataframe\n",
    "#so below, I apply the makedecade function to each row to create a new column with decades\n",
    "indata1['decade'] = indata1.apply(makedecade,axis=1) "
   ]
  },
  {
   "cell_type": "code",
   "execution_count": null,
   "metadata": {
    "scrolled": true
   },
   "outputs": [],
   "source": [
    "indata1.head()"
   ]
  },
  {
   "cell_type": "code",
   "execution_count": null,
   "metadata": {},
   "outputs": [],
   "source": [
    "#remove decades outside the period of interest (and data missing on year)\n",
    "indata1 = indata1[indata1['decade']!='missing']"
   ]
  },
  {
   "cell_type": "code",
   "execution_count": null,
   "metadata": {},
   "outputs": [],
   "source": [
    "indata1.head()"
   ]
  },
  {
   "cell_type": "code",
   "execution_count": null,
   "metadata": {
    "scrolled": true
   },
   "outputs": [],
   "source": [
    "#View a list of genres to choose from\n",
    "indata1['artist_mbtags'].groupby(indata1['artist_mbtags']).count()"
   ]
  },
  {
   "cell_type": "markdown",
   "metadata": {},
   "source": [
    "*Choose three genres to investigate and create a hypothesis about them related to the prompt above. Include a theoretical rationale justifying your hypothesis in terms of the data source and/or the genres themselves and write both the hypothesis and justification (in words) in the cell below.*\n",
    "\n",
    "**Prompt 1 Hypothesis:**"
   ]
  },
  {
   "cell_type": "markdown",
   "metadata": {},
   "source": [
    "type here"
   ]
  },
  {
   "cell_type": "markdown",
   "metadata": {},
   "source": [
    "*Formally state the null (H0) hypotheses in the cell below.*\n",
    "\n",
    "**Prompt 1 Null Hypotheses:**"
   ]
  },
  {
   "cell_type": "markdown",
   "metadata": {},
   "source": [
    "type here"
   ]
  },
  {
   "cell_type": "code",
   "execution_count": null,
   "metadata": {},
   "outputs": [],
   "source": [
    "#Restrict to key genres by ***replacing sample with your genres of interest***\n",
    "genres = ['folk','rock','soul and reggae']\n",
    "\n",
    "def genreIndicator(row):\n",
    "    temp = 0\n",
    "    for genre in genres:\n",
    "        if row['artist_mbtags']==genre:\n",
    "            temp += 1\n",
    "    return temp\n",
    "\n",
    "indata1['keep']=indata1.apply(genreIndicator,axis=1)\n",
    "\n",
    "indata1 = indata1[indata1['keep'] != 0]\n",
    "indata1.head()"
   ]
  },
  {
   "cell_type": "markdown",
   "metadata": {},
   "source": [
    "*Test your hypotheses using the appropriate statistical test. You do not need to worry about missing data here.*"
   ]
  },
  {
   "cell_type": "code",
   "execution_count": null,
   "metadata": {
    "collapsed": true
   },
   "outputs": [],
   "source": [
    "#type/paste your code here\n",
    "#you can use \"insert-insert cell below\" to add additional cells instead of running all at once\n"
   ]
  },
  {
   "cell_type": "markdown",
   "metadata": {},
   "source": [
    "*Report the results of your null hypothesis test formally. What test did you use and what was the significance (p) value? Did you reject or fail to reject the null hypothesis?*\n",
    "\n",
    "**Prompt 1 Null Hypothesis Findings:**"
   ]
  },
  {
   "cell_type": "markdown",
   "metadata": {},
   "source": [
    "type here"
   ]
  },
  {
   "cell_type": "markdown",
   "metadata": {},
   "source": [
    "*Interpret the results of your null hypothesis test in words. What do your findings tell us about these genres (at least in the Million Song Data Subset)?*"
   ]
  },
  {
   "cell_type": "markdown",
   "metadata": {},
   "source": [
    "type here"
   ]
  },
  {
   "cell_type": "markdown",
   "metadata": {},
   "source": [
    "*If you rejected the null hypothesis: describe one possible mechanism that might drive this difference (e.g. why would the distribution in the data across decades differ by genre).*\n",
    "\n",
    "*If you failed to reject the null hypothesis: describe one possible reason for the null finding (e.g. why wouldn't the distribution in the data across decades differ by genre).*\n",
    "\n",
    "*In either case, your explanation may include any combination of substantive, epistemological, or measurement issues.*\n",
    "\n",
    "**Prompt 1 Discussion of Findings:**"
   ]
  },
  {
   "cell_type": "markdown",
   "metadata": {},
   "source": [
    "type here"
   ]
  },
  {
   "cell_type": "markdown",
   "metadata": {},
   "source": [
    "## Prompt 2: Artist and Musical Characteristics\n",
    "\n",
    "***Investigate whether a musical characteristic (loudness, tempo, or duration) varies between two artists of your choice.***"
   ]
  },
  {
   "cell_type": "code",
   "execution_count": 67,
   "metadata": {
    "collapsed": true
   },
   "outputs": [],
   "source": [
    "import pandas as pd"
   ]
  },
  {
   "cell_type": "code",
   "execution_count": null,
   "metadata": {
    "collapsed": true
   },
   "outputs": [],
   "source": [
    "#Download data for artists with 10 or more songs in the subset\n",
    "indata2 = pd.read_csv('https://raw.githubusercontent.com/ndporter/pythonDiSC/master/finalProject/DiSC_Million_Songs_Artists.csv')"
   ]
  },
  {
   "cell_type": "code",
   "execution_count": null,
   "metadata": {
    "collapsed": true
   },
   "outputs": [],
   "source": [
    "#remove missing data on all variables\n",
    "vars = ['loudness','tempo','duration']\n",
    "indata2 = indata2.dropna(subset=vars) #defined Nan\n",
    "for var in vars:\n",
    "    indata2 = indata2[indata2[var]!=0] #missing set to zero"
   ]
  },
  {
   "cell_type": "code",
   "execution_count": null,
   "metadata": {
    "collapsed": true
   },
   "outputs": [],
   "source": [
    "#Display all artists to choose from\n",
    "indata2['artist_name'].groupby(indata2['artist_name']).count()"
   ]
  },
  {
   "cell_type": "markdown",
   "metadata": {},
   "source": [
    "*Choose two artists to investigate and create a hypothesis about them related to the prompt above. Include a rationale justifying your hypothesis in terms of the data source and/or the artists themselves and write both the hypothesis and justification (in words) in the cell below.*\n",
    "\n",
    "**Prompt 2 Hypothesis:**"
   ]
  },
  {
   "cell_type": "markdown",
   "metadata": {},
   "source": [
    "type here"
   ]
  },
  {
   "cell_type": "markdown",
   "metadata": {},
   "source": [
    "*Formally state the null (H0) hypotheses in the cell below.*\n",
    "\n",
    "**Prompt 2 Null Hypotheses:**"
   ]
  },
  {
   "cell_type": "markdown",
   "metadata": {},
   "source": [
    "type here"
   ]
  },
  {
   "cell_type": "markdown",
   "metadata": {},
   "source": [
    "*Test your hypotheses using the appropriate statistical test. You do not need to worry about missing data here.*"
   ]
  },
  {
   "cell_type": "code",
   "execution_count": null,
   "metadata": {
    "collapsed": true
   },
   "outputs": [],
   "source": [
    "#type/paste your code here\n",
    "#you can use \"insert-insert cell below\" to add additional cells instead of running all at once\n"
   ]
  },
  {
   "cell_type": "markdown",
   "metadata": {},
   "source": [
    "*Report the results of your null hypothesis test formally. What test did you use and what was the significance (p) value? Did you reject or fail to reject the null hypothesis?*\n",
    "\n",
    "**Prompt 2 Null Hypothesis Findings:**"
   ]
  },
  {
   "cell_type": "markdown",
   "metadata": {},
   "source": [
    "type here"
   ]
  },
  {
   "cell_type": "markdown",
   "metadata": {},
   "source": [
    "*Interpret the results of your null hypothesis test in words. What do your findings tell us about these artists (at least in the Million Song Data Subset)?*"
   ]
  },
  {
   "cell_type": "markdown",
   "metadata": {},
   "source": [
    "type here"
   ]
  },
  {
   "cell_type": "markdown",
   "metadata": {},
   "source": [
    "*If you rejected the null hypothesis: describe one possible mechanism that might drive this difference (e.g. why would the variable's values differ between the two artists).*\n",
    "\n",
    "*If you failed to reject the null hypothesis: describe one possible reason for the null finding (e.g. why wouldn't the variable's values differ between the two artists).*\n",
    "\n",
    "*In either case, your explanation may include any combination of substantive, epistemological, or measurement issues.*\n",
    "\n",
    "**Prompt 2 Discussion of Findings:**"
   ]
  },
  {
   "cell_type": "markdown",
   "metadata": {},
   "source": [
    "type here"
   ]
  },
  {
   "cell_type": "markdown",
   "metadata": {},
   "source": [
    "# Prompt 3: Year and Hotttnesss/Familiarity\n",
    "\n",
    "***There has been some speculation in this class that the hotttnesss and familiarity measurement in the dataset might be biased toward music that was newer  when the dataset was collected (2010). Investigate the relationship between year (not recoded) and the three variables to test whether there is reason to further investigate the potential for such bias.***"
   ]
  },
  {
   "cell_type": "code",
   "execution_count": null,
   "metadata": {},
   "outputs": [],
   "source": [
    "import pandas as pd"
   ]
  },
  {
   "cell_type": "code",
   "execution_count": null,
   "metadata": {
    "collapsed": true
   },
   "outputs": [],
   "source": [
    "#Download data for the full subset\n",
    "indata3 = pd.read_csv('https://raw.githubusercontent.com/ndporter/pythonDiSC/master/finalProject/DiSC_Million_Songs_Data.csv')"
   ]
  },
  {
   "cell_type": "code",
   "execution_count": null,
   "metadata": {},
   "outputs": [],
   "source": [
    "indata3.head()"
   ]
  },
  {
   "cell_type": "code",
   "execution_count": null,
   "metadata": {
    "collapsed": true
   },
   "outputs": [],
   "source": [
    "#remove missing data on all variables\n",
    "vars = ['year','song_hotttness','artist_hotttness','familiarity']\n",
    "indata3 = indata3.dropna(subset=vars) #defined NaN\n",
    "for var in vars:\n",
    "    indata3 = indata3[indata3[var]!=0] #missing set to zero\n",
    "indata3 = indata3[vars] #drop exra variables"
   ]
  },
  {
   "cell_type": "markdown",
   "metadata": {},
   "source": [
    "*Choose one variable (song_hotttnesss, artist_hotttnesss or artist_familiarity) to investigate and create a hypothesis about its relationship to year based on the prompt above. Include a rationale justifying your hypothesis in terms of the data source and/or the artists themselves and write both the hypothesis and justification (in words) in the cell below.*\n",
    "\n",
    "**Prompt 3 Hypothesis:**"
   ]
  },
  {
   "cell_type": "markdown",
   "metadata": {},
   "source": [
    "type here"
   ]
  },
  {
   "cell_type": "markdown",
   "metadata": {},
   "source": [
    "*Formally state the null (H0) hypotheses in the cell below.*\n",
    "\n",
    "**Prompt 3 Null Hypotheses:**"
   ]
  },
  {
   "cell_type": "markdown",
   "metadata": {},
   "source": [
    "type here"
   ]
  },
  {
   "cell_type": "markdown",
   "metadata": {
    "collapsed": true
   },
   "source": [
    "*Create a correlation matrix of all variables (note that year is in calendar years, not decades like in prompt 1)*"
   ]
  },
  {
   "cell_type": "code",
   "execution_count": null,
   "metadata": {
    "collapsed": true
   },
   "outputs": [],
   "source": [
    "#type/paste your code here\n",
    "#you can use \"insert-insert cell below\" to add additional cells instead of running all at oncle"
   ]
  },
  {
   "cell_type": "markdown",
   "metadata": {
    "collapsed": true
   },
   "source": [
    "*Interpret the sign and relative sizes of the correlations of year with all three other variables. You do not need to discuss significance yet.* "
   ]
  },
  {
   "cell_type": "markdown",
   "metadata": {},
   "source": [
    "type here"
   ]
  },
  {
   "cell_type": "markdown",
   "metadata": {
    "collapsed": true
   },
   "source": [
    "*Test your hypothesis using the appropriate statistical test. You do not need to worry about missing data here.*"
   ]
  },
  {
   "cell_type": "code",
   "execution_count": null,
   "metadata": {
    "collapsed": true
   },
   "outputs": [],
   "source": [
    "#type/paste your code here\n",
    "#you can use \"insert-insert cell below\" to add additional cells instead of running all at once"
   ]
  },
  {
   "cell_type": "markdown",
   "metadata": {
    "collapsed": true
   },
   "source": [
    "*Report the results of your null hypothesis test formally. What test did you use and what was the significance (p) value? Did you reject or fail to reject the null hypothesis?*\n",
    "\n",
    "**Prompt 3 Null Hypothesis Findings:**"
   ]
  },
  {
   "cell_type": "markdown",
   "metadata": {
    "collapsed": true
   },
   "source": [
    "type here"
   ]
  },
  {
   "cell_type": "markdown",
   "metadata": {
    "collapsed": true
   },
   "source": [
    "*Interpret the results of your null hypothesis test in words. What do your findings tell us about the variables and/or data?*"
   ]
  },
  {
   "cell_type": "markdown",
   "metadata": {
    "collapsed": true
   },
   "source": [
    "type here"
   ]
  },
  {
   "cell_type": "markdown",
   "metadata": {
    "collapsed": true
   },
   "source": [
    "*If you rejected the null hypothesis: describe one possible mechanism that might drive this difference (e.g. why would the variable's values in the data differ across years).*\n",
    "\n",
    "*If you failed to reject the null hypothesis: describe one possible reason for the null finding (e.g. why wouldn't the variable's values in the data differ across years).*\n",
    "\n",
    "*In either case, your explanation may include any combination of substantive, epistemological, or measurement issues.*\n",
    "\n",
    "**Prompt 3 Discussion of Findings:**"
   ]
  },
  {
   "cell_type": "markdown",
   "metadata": {
    "collapsed": true
   },
   "source": [
    "type here"
   ]
  }
 ],
 "metadata": {
  "kernelspec": {
   "display_name": "Python 3",
   "language": "python",
   "name": "python3"
  },
  "language_info": {
   "codemirror_mode": {
    "name": "ipython",
    "version": 3
   },
   "file_extension": ".py",
   "mimetype": "text/x-python",
   "name": "python",
   "nbconvert_exporter": "python",
   "pygments_lexer": "ipython3",
   "version": "3.6.6"
  }
 },
 "nbformat": 4,
 "nbformat_minor": 2
}
