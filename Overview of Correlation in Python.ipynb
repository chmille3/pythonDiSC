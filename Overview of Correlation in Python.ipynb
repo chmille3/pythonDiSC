{
 "cells": [
  {
   "cell_type": "markdown",
   "metadata": {},
   "source": [
    "# Correlation\n",
    "\n",
    "**Correlation (we'll use Pearson's correlation, also called Pearson's r) is a coefficient describing the relationship between two variables that ranges from -1 to 1. A positive correlation indicates that when one is higher, the other also tends to be higher. A negative correlation indicates that when one is higher, the other tends to be lower. A correlation of zero indicates there is no statistical relationship at all between two variables.**\n",
    "\n",
    "**Correlation provides a way to summarize the relationship between *two interval-level variables* in a single number. It does not take into account other variables that might be causing or mediating the relationship, but it provides a good starting point to think about the relationship between interval variables.**"
   ]
  },
  {
   "cell_type": "code",
   "execution_count": 1,
   "metadata": {
    "collapsed": true
   },
   "outputs": [],
   "source": [
    "#Read million songs data from final project folder\n",
    "import pandas as pd\n",
    "indata = pd.read_csv('https://raw.githubusercontent.com/ndporter/pythonDiSC/master/finalProject/DiSC_Million_Songs_Data.csv')"
   ]
  },
  {
   "cell_type": "code",
   "execution_count": 2,
   "metadata": {},
   "outputs": [
    {
     "data": {
      "text/html": [
       "<div>\n",
       "<style>\n",
       "    .dataframe thead tr:only-child th {\n",
       "        text-align: right;\n",
       "    }\n",
       "\n",
       "    .dataframe thead th {\n",
       "        text-align: left;\n",
       "    }\n",
       "\n",
       "    .dataframe tbody tr th {\n",
       "        vertical-align: top;\n",
       "    }\n",
       "</style>\n",
       "<table border=\"1\" class=\"dataframe\">\n",
       "  <thead>\n",
       "    <tr style=\"text-align: right;\">\n",
       "      <th></th>\n",
       "      <th>Unnamed: 0</th>\n",
       "      <th>song_id</th>\n",
       "      <th>artist_id</th>\n",
       "      <th>artist_name</th>\n",
       "      <th>artist_familiarity</th>\n",
       "      <th>artist_hotttnesss</th>\n",
       "      <th>title</th>\n",
       "      <th>song_hotttnesss</th>\n",
       "      <th>year</th>\n",
       "      <th>duration</th>\n",
       "      <th>loudness</th>\n",
       "      <th>tempo</th>\n",
       "      <th>artist_mbtags</th>\n",
       "      <th>release</th>\n",
       "      <th>release_7digitalid</th>\n",
       "    </tr>\n",
       "  </thead>\n",
       "  <tbody>\n",
       "    <tr>\n",
       "      <th>0</th>\n",
       "      <td>0</td>\n",
       "      <td>SOMZWCG12A8C13C480</td>\n",
       "      <td>ARD7TVE1187B99BFB1</td>\n",
       "      <td>Casual</td>\n",
       "      <td>0.581794</td>\n",
       "      <td>0.401998</td>\n",
       "      <td>I Didn't Mean To</td>\n",
       "      <td>0.602120</td>\n",
       "      <td>0</td>\n",
       "      <td>218.93179</td>\n",
       "      <td>-11.197</td>\n",
       "      <td>92.198</td>\n",
       "      <td>none</td>\n",
       "      <td>Fear Itself</td>\n",
       "      <td>300848</td>\n",
       "    </tr>\n",
       "    <tr>\n",
       "      <th>1</th>\n",
       "      <td>1</td>\n",
       "      <td>SOCIWDW12A8C13D406</td>\n",
       "      <td>ARMJAGH1187FB546F3</td>\n",
       "      <td>The Box Tops</td>\n",
       "      <td>0.630630</td>\n",
       "      <td>0.417500</td>\n",
       "      <td>Soul Deep</td>\n",
       "      <td>NaN</td>\n",
       "      <td>1969</td>\n",
       "      <td>148.03546</td>\n",
       "      <td>-9.843</td>\n",
       "      <td>121.274</td>\n",
       "      <td>classic pop and rock</td>\n",
       "      <td>Dimensions</td>\n",
       "      <td>300822</td>\n",
       "    </tr>\n",
       "    <tr>\n",
       "      <th>2</th>\n",
       "      <td>2</td>\n",
       "      <td>SOXVLOJ12AB0189215</td>\n",
       "      <td>ARKRRTF1187B9984DA</td>\n",
       "      <td>Sonora Santanera</td>\n",
       "      <td>0.487357</td>\n",
       "      <td>0.343428</td>\n",
       "      <td>Amor De Cabaret</td>\n",
       "      <td>NaN</td>\n",
       "      <td>0</td>\n",
       "      <td>177.47546</td>\n",
       "      <td>-9.689</td>\n",
       "      <td>100.070</td>\n",
       "      <td>none</td>\n",
       "      <td>Las Numero 1 De La Sonora Santanera</td>\n",
       "      <td>514953</td>\n",
       "    </tr>\n",
       "    <tr>\n",
       "      <th>3</th>\n",
       "      <td>3</td>\n",
       "      <td>SONHOTT12A8C13493C</td>\n",
       "      <td>AR7G5I41187FB4CE6C</td>\n",
       "      <td>Adam Ant</td>\n",
       "      <td>0.630382</td>\n",
       "      <td>0.454231</td>\n",
       "      <td>Something Girls</td>\n",
       "      <td>NaN</td>\n",
       "      <td>1982</td>\n",
       "      <td>233.40363</td>\n",
       "      <td>-9.013</td>\n",
       "      <td>119.293</td>\n",
       "      <td>uk</td>\n",
       "      <td>Friend Or Foe</td>\n",
       "      <td>287650</td>\n",
       "    </tr>\n",
       "    <tr>\n",
       "      <th>4</th>\n",
       "      <td>4</td>\n",
       "      <td>SOFSOCN12A8C143F5D</td>\n",
       "      <td>ARXR32B1187FB57099</td>\n",
       "      <td>Gob</td>\n",
       "      <td>0.651046</td>\n",
       "      <td>0.401724</td>\n",
       "      <td>Face the Ashes</td>\n",
       "      <td>0.604501</td>\n",
       "      <td>2007</td>\n",
       "      <td>209.60608</td>\n",
       "      <td>-4.501</td>\n",
       "      <td>129.738</td>\n",
       "      <td>none</td>\n",
       "      <td>Muertos Vivos</td>\n",
       "      <td>611336</td>\n",
       "    </tr>\n",
       "  </tbody>\n",
       "</table>\n",
       "</div>"
      ],
      "text/plain": [
       "   Unnamed: 0             song_id           artist_id       artist_name  \\\n",
       "0           0  SOMZWCG12A8C13C480  ARD7TVE1187B99BFB1            Casual   \n",
       "1           1  SOCIWDW12A8C13D406  ARMJAGH1187FB546F3      The Box Tops   \n",
       "2           2  SOXVLOJ12AB0189215  ARKRRTF1187B9984DA  Sonora Santanera   \n",
       "3           3  SONHOTT12A8C13493C  AR7G5I41187FB4CE6C          Adam Ant   \n",
       "4           4  SOFSOCN12A8C143F5D  ARXR32B1187FB57099               Gob   \n",
       "\n",
       "   artist_familiarity  artist_hotttnesss             title  song_hotttnesss  \\\n",
       "0            0.581794           0.401998  I Didn't Mean To         0.602120   \n",
       "1            0.630630           0.417500         Soul Deep              NaN   \n",
       "2            0.487357           0.343428   Amor De Cabaret              NaN   \n",
       "3            0.630382           0.454231   Something Girls              NaN   \n",
       "4            0.651046           0.401724    Face the Ashes         0.604501   \n",
       "\n",
       "   year   duration  loudness    tempo         artist_mbtags  \\\n",
       "0     0  218.93179   -11.197   92.198                  none   \n",
       "1  1969  148.03546    -9.843  121.274  classic pop and rock   \n",
       "2     0  177.47546    -9.689  100.070                  none   \n",
       "3  1982  233.40363    -9.013  119.293                    uk   \n",
       "4  2007  209.60608    -4.501  129.738                  none   \n",
       "\n",
       "                               release  release_7digitalid  \n",
       "0                          Fear Itself              300848  \n",
       "1                           Dimensions              300822  \n",
       "2  Las Numero 1 De La Sonora Santanera              514953  \n",
       "3                        Friend Or Foe              287650  \n",
       "4                        Muertos Vivos              611336  "
      ]
     },
     "execution_count": 2,
     "metadata": {},
     "output_type": "execute_result"
    }
   ],
   "source": [
    "#take a look\n",
    "#notice the mix of interval variables, nominal variables, and desriptive id variables (artist_name, title, release, etc)\n",
    "indata.head()"
   ]
  },
  {
   "cell_type": "code",
   "execution_count": 3,
   "metadata": {
    "collapsed": true
   },
   "outputs": [],
   "source": [
    "#reduce dataset for the exercise so it's easier to work with\n",
    "#the double square brackets allow keeping a subset of columns \n",
    "songsData=indata[['artist_familiarity','tempo','duration']]"
   ]
  },
  {
   "cell_type": "code",
   "execution_count": 4,
   "metadata": {
    "collapsed": true
   },
   "outputs": [],
   "source": [
    "#pandas has an embedded correlation command that produces a correlation matrix for every set of 2 variables in the data\n",
    "corrMatr = songsData.corr()"
   ]
  },
  {
   "cell_type": "code",
   "execution_count": 5,
   "metadata": {},
   "outputs": [
    {
     "data": {
      "text/html": [
       "<div>\n",
       "<style>\n",
       "    .dataframe thead tr:only-child th {\n",
       "        text-align: right;\n",
       "    }\n",
       "\n",
       "    .dataframe thead th {\n",
       "        text-align: left;\n",
       "    }\n",
       "\n",
       "    .dataframe tbody tr th {\n",
       "        vertical-align: top;\n",
       "    }\n",
       "</style>\n",
       "<table border=\"1\" class=\"dataframe\">\n",
       "  <thead>\n",
       "    <tr style=\"text-align: right;\">\n",
       "      <th></th>\n",
       "      <th>artist_familiarity</th>\n",
       "      <th>tempo</th>\n",
       "      <th>duration</th>\n",
       "    </tr>\n",
       "  </thead>\n",
       "  <tbody>\n",
       "    <tr>\n",
       "      <th>artist_familiarity</th>\n",
       "      <td>1.000000</td>\n",
       "      <td>0.065946</td>\n",
       "      <td>0.032884</td>\n",
       "    </tr>\n",
       "    <tr>\n",
       "      <th>tempo</th>\n",
       "      <td>0.065946</td>\n",
       "      <td>1.000000</td>\n",
       "      <td>-0.009968</td>\n",
       "    </tr>\n",
       "    <tr>\n",
       "      <th>duration</th>\n",
       "      <td>0.032884</td>\n",
       "      <td>-0.009968</td>\n",
       "      <td>1.000000</td>\n",
       "    </tr>\n",
       "  </tbody>\n",
       "</table>\n",
       "</div>"
      ],
      "text/plain": [
       "                    artist_familiarity     tempo  duration\n",
       "artist_familiarity            1.000000  0.065946  0.032884\n",
       "tempo                         0.065946  1.000000 -0.009968\n",
       "duration                      0.032884 -0.009968  1.000000"
      ]
     },
     "execution_count": 5,
     "metadata": {},
     "output_type": "execute_result"
    }
   ],
   "source": [
    "#display the matrix\n",
    "#the 1s on the diagonal mean that each variable is perfectly correlated with itself\n",
    "#notice some correlations are positive and others are negative but none appear large\n",
    "#pandas doesn't provide a significance test with its corr() command\n",
    "corrMatr"
   ]
  },
  {
   "cell_type": "code",
   "execution_count": 6,
   "metadata": {
    "collapsed": true
   },
   "outputs": [],
   "source": [
    "#instead we'll use a command from scipy to find the significance of the single largest correlation we found (artist_familiarity and tempo)\n",
    "import scipy.stats as stats"
   ]
  },
  {
   "cell_type": "code",
   "execution_count": 7,
   "metadata": {},
   "outputs": [
    {
     "name": "stderr",
     "output_type": "stream",
     "text": [
      "C:\\Program Files (x86)\\Microsoft Visual Studio\\Shared\\Anaconda3_64\\lib\\site-packages\\scipy\\stats\\stats.py:5277: RuntimeWarning: invalid value encountered in less\n",
      "  x = np.where(x < 1.0, x, 1.0)  # if x > 1 then return 1.0\n"
     ]
    },
    {
     "data": {
      "text/plain": [
       "(nan, 1.0)"
      ]
     },
     "execution_count": 7,
     "metadata": {},
     "output_type": "execute_result"
    }
   ],
   "source": [
    "#run the procedure, the two columns to be correlated are in the parentheses (order doesn't matter)\n",
    "stats.pearsonr(songsData['artist_familiarity'],songsData['tempo'])"
   ]
  },
  {
   "cell_type": "code",
   "execution_count": 8,
   "metadata": {
    "collapsed": true
   },
   "outputs": [],
   "source": [
    "#we apparently have missing data\n",
    "#let's try again without\n",
    "songsData=songsData.dropna()"
   ]
  },
  {
   "cell_type": "code",
   "execution_count": 14,
   "metadata": {},
   "outputs": [
    {
     "data": {
      "text/plain": [
       "(0.065945708828000535, 4.1223621649189999e-11)"
      ]
     },
     "execution_count": 14,
     "metadata": {},
     "output_type": "execute_result"
    }
   ],
   "source": [
    "#same command, different results\n",
    "#the first number returned is the correlation (the same as in corr() above)\n",
    "#the second number is the statistical significance (p-value)\n",
    "#remember that the e-NUM notation is scientific and means move the decimal to the left NUM positions\n",
    "#so our finding is that the correlation is positive and small (0.07) but highly significant\n",
    "#that is: familiar artists tend to have more up-tempo songs\n",
    "#the low correlation could result from artists typically having both up and downtempo songs OR\n",
    "#from a broad range of listener preference OR\n",
    "#from a measurement artifact such as the zeros that we'll see in the data that are probably missing\n",
    "stats.pearsonr(songsData['artist_familiarity'],songsData['tempo'])"
   ]
  },
  {
   "cell_type": "code",
   "execution_count": 10,
   "metadata": {
    "collapsed": true
   },
   "outputs": [],
   "source": [
    "#Let's see what a correlation looks like when plotted\n",
    "#these commands allow us to make scatterplots in Jupyter\n",
    "import matplotlib\n",
    "import matplotlib.pyplot as plt\n",
    "%matplotlib inline\n",
    "matplotlib.style.use('ggplot')"
   ]
  },
  {
   "cell_type": "code",
   "execution_count": 11,
   "metadata": {},
   "outputs": [
    {
     "data": {
      "image/png": "[encoded data removed]",
      "text/plain": [
       "<matplotlib.figure.Figure at 0x28a0249aba8>"
      ]
     },
     "metadata": {},
     "output_type": "display_data"
    }
   ],
   "source": [
    "#First, a positive correlation of 1 (between a value and twice the value)\n",
    "#A negative correlation would look the same but sloped the other direction\n",
    "plt.scatter(songsData['tempo'],songsData['tempo']*2)\n",
    "plt.show()"
   ]
  },
  {
   "cell_type": "code",
   "execution_count": 12,
   "metadata": {},
   "outputs": [
    {
     "data": {
      "image/png": "[encoded data removed]",
      "text/plain": [
       "<matplotlib.figure.Figure at 0x28a02321dd8>"
      ]
     },
     "metadata": {},
     "output_type": "display_data"
    }
   ],
   "source": [
    "#how about our data for the correlation?\n",
    "#it's less clear from looking at this that there's a positive correlation AND\n",
    "#the line would be less steep as a result\n",
    "#Notice also that there are zeros on both familiarity and tempo that might be missing\n",
    "plt.scatter(songsData['artist_familiarity'],songsData['tempo'])\n",
    "plt.show()"
   ]
  },
  {
   "cell_type": "code",
   "execution_count": 13,
   "metadata": {},
   "outputs": [
    {
     "data": {
      "image/png": "[encoded data removed]",
      "text/plain": [
       "<matplotlib.figure.Figure at 0x28a022b6240>"
      ]
     },
     "metadata": {},
     "output_type": "display_data"
    }
   ],
   "source": [
    "#for completeness, let's create some random numbers to see what a zero correlation looks like\n",
    "import numpy as np\n",
    "x = np.random.randint(0,50,1000)\n",
    "y = np.random.randint(0,50,1000)\n",
    "plt.scatter(x,y)\n",
    "plt.show()"
   ]
  },
  {
   "cell_type": "markdown",
   "metadata": {},
   "source": [
    "When interpreting correlation, state both the value (between -1 and 1) and the p-value (between 0 and 1). If you find a significant correlation, state something like:\n",
    "\n",
    "*There is a significant positive correlation of 0.07 between artist familiarity and song tempo (p\\<0.001).*\n",
    "\n",
    "Standard vary between disciplines, but one rule of thumb is that a correlation between -0.2 and 0.2 is small, -0.2 to -0.5 or 0.2 to 0.5 is medium, and anything higher is high."
   ]
  },
  {
   "cell_type": "code",
   "execution_count": null,
   "metadata": {
    "collapsed": true
   },
   "outputs": [],
   "source": []
  }
 ],
 "metadata": {
  "kernelspec": {
   "display_name": "Python 3",
   "language": "python",
   "name": "python3"
  },
  "language_info": {
   "codemirror_mode": {
    "name": "ipython",
    "version": 3
   },
   "file_extension": ".py",
   "mimetype": "text/x-python",
   "name": "python",
   "nbconvert_exporter": "python",
   "pygments_lexer": "ipython3",
   "version": "3.6.2"
  }
 },
 "nbformat": 4,
 "nbformat_minor": 2
}
