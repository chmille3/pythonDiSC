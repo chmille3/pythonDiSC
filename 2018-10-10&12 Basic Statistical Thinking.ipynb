{
 "cells": [
  {
   "cell_type": "markdown",
   "metadata": {},
   "source": [
    "2018-10-10 In-class notes - Data in Social Context\n",
    "\n",
    "**What does statistical thinking look like and how do I interpret statistical output in Python?**\n",
    "\n",
    "*The goal of today's class is to better understand the difference between simplistic data-driven thinking and statistical thinking. In a nutshell, the type of statistics I mean here are meant to help answer the questions \"Is it real?\" or \"Does it matter?\"*\n",
    "\n",
    "*Suppose the top two students in a class have a 98.1% semester grade and a 98.2% semester grade respectively. Which one is the better student? Simplistic data-driven thinking says student 1 is better because they have a higher grade. But any number of factors could have produced the difference, from the timing of assignments for other classes to the relative weighting of skills associated with each student's strengths. Few people would argue that Student 1 is conclusively a stronger student.*\n",
    "\n",
    "*Statistics provide a mathematically-informed way to make such decisions. In today's lesson, we'll test the likely range of population means of scores, had other similar students had the same assignment, and whether students who like N Sync are actually more successful in their assignments than those that prefer Backstreet Boys.*"
   ]
  },
  {
   "cell_type": "code",
   "execution_count": 1,
   "metadata": {
    "collapsed": true
   },
   "outputs": [],
   "source": [
    "#import pandas\n",
    "import pandas as pd"
   ]
  },
  {
   "cell_type": "code",
   "execution_count": 2,
   "metadata": {
    "collapsed": true
   },
   "outputs": [],
   "source": [
    "#read data in from github (no download)\n",
    "indata = pd.read_excel('https://github.com/ndporter/pythonDiSC/raw/master/Foundations_grades_F18_anon.xlsx')"
   ]
  },
  {
   "cell_type": "code",
   "execution_count": 5,
   "metadata": {
    "scrolled": true
   },
   "outputs": [
    {
     "data": {
      "text/html": [
       "<div>\n",
       "<style>\n",
       "    .dataframe thead tr:only-child th {\n",
       "        text-align: right;\n",
       "    }\n",
       "\n",
       "    .dataframe thead th {\n",
       "        text-align: left;\n",
       "    }\n",
       "\n",
       "    .dataframe tbody tr th {\n",
       "        vertical-align: top;\n",
       "    }\n",
       "</style>\n",
       "<table border=\"1\" class=\"dataframe\">\n",
       "  <thead>\n",
       "    <tr style=\"text-align: right;\">\n",
       "      <th></th>\n",
       "      <th>classNum</th>\n",
       "      <th>ID</th>\n",
       "      <th>nsLong</th>\n",
       "      <th>bsbLong</th>\n",
       "      <th>compLong</th>\n",
       "      <th>songList</th>\n",
       "      <th>noXmas</th>\n",
       "      <th>for</th>\n",
       "      <th>if</th>\n",
       "      <th>elif</th>\n",
       "      <th>...</th>\n",
       "      <th>total</th>\n",
       "      <th>minSpent</th>\n",
       "      <th>bestBand</th>\n",
       "      <th>hot</th>\n",
       "      <th>qual</th>\n",
       "      <th>prod</th>\n",
       "      <th>members</th>\n",
       "      <th>other</th>\n",
       "      <th>ansCompProd</th>\n",
       "      <th>bsbLonger</th>\n",
       "    </tr>\n",
       "  </thead>\n",
       "  <tbody>\n",
       "    <tr>\n",
       "      <th>0</th>\n",
       "      <td>class1</td>\n",
       "      <td>1</td>\n",
       "      <td>2.0</td>\n",
       "      <td>5.0</td>\n",
       "      <td>3.0</td>\n",
       "      <td>2.0</td>\n",
       "      <td>0.0</td>\n",
       "      <td>1.0</td>\n",
       "      <td>1.0</td>\n",
       "      <td>1.0</td>\n",
       "      <td>...</td>\n",
       "      <td>35.0</td>\n",
       "      <td>300.0</td>\n",
       "      <td>NaN</td>\n",
       "      <td>NaN</td>\n",
       "      <td>NaN</td>\n",
       "      <td>NaN</td>\n",
       "      <td>NaN</td>\n",
       "      <td>NaN</td>\n",
       "      <td>1.00</td>\n",
       "      <td>0.0</td>\n",
       "    </tr>\n",
       "    <tr>\n",
       "      <th>1</th>\n",
       "      <td>class1</td>\n",
       "      <td>2</td>\n",
       "      <td>5.0</td>\n",
       "      <td>5.0</td>\n",
       "      <td>5.0</td>\n",
       "      <td>5.0</td>\n",
       "      <td>3.0</td>\n",
       "      <td>3.0</td>\n",
       "      <td>5.0</td>\n",
       "      <td>5.0</td>\n",
       "      <td>...</td>\n",
       "      <td>101.0</td>\n",
       "      <td>60.0</td>\n",
       "      <td>B</td>\n",
       "      <td>1.0</td>\n",
       "      <td>0.0</td>\n",
       "      <td>0.0</td>\n",
       "      <td>0.0</td>\n",
       "      <td>0.0</td>\n",
       "      <td>4.25</td>\n",
       "      <td>1.0</td>\n",
       "    </tr>\n",
       "    <tr>\n",
       "      <th>2</th>\n",
       "      <td>class1</td>\n",
       "      <td>3</td>\n",
       "      <td>5.0</td>\n",
       "      <td>5.0</td>\n",
       "      <td>5.0</td>\n",
       "      <td>5.0</td>\n",
       "      <td>5.0</td>\n",
       "      <td>5.0</td>\n",
       "      <td>5.0</td>\n",
       "      <td>5.0</td>\n",
       "      <td>...</td>\n",
       "      <td>101.0</td>\n",
       "      <td>60.0</td>\n",
       "      <td>N</td>\n",
       "      <td>0.0</td>\n",
       "      <td>1.0</td>\n",
       "      <td>0.0</td>\n",
       "      <td>0.0</td>\n",
       "      <td>0.0</td>\n",
       "      <td>1.00</td>\n",
       "      <td>0.0</td>\n",
       "    </tr>\n",
       "    <tr>\n",
       "      <th>3</th>\n",
       "      <td>class1</td>\n",
       "      <td>4</td>\n",
       "      <td>5.0</td>\n",
       "      <td>5.0</td>\n",
       "      <td>5.0</td>\n",
       "      <td>5.0</td>\n",
       "      <td>5.0</td>\n",
       "      <td>5.0</td>\n",
       "      <td>5.0</td>\n",
       "      <td>3.0</td>\n",
       "      <td>...</td>\n",
       "      <td>103.0</td>\n",
       "      <td>30.0</td>\n",
       "      <td>B</td>\n",
       "      <td>0.0</td>\n",
       "      <td>0.0</td>\n",
       "      <td>1.0</td>\n",
       "      <td>0.0</td>\n",
       "      <td>0.0</td>\n",
       "      <td>4.25</td>\n",
       "      <td>1.0</td>\n",
       "    </tr>\n",
       "    <tr>\n",
       "      <th>4</th>\n",
       "      <td>class1</td>\n",
       "      <td>5</td>\n",
       "      <td>4.0</td>\n",
       "      <td>5.0</td>\n",
       "      <td>5.0</td>\n",
       "      <td>5.0</td>\n",
       "      <td>5.0</td>\n",
       "      <td>5.0</td>\n",
       "      <td>4.0</td>\n",
       "      <td>5.0</td>\n",
       "      <td>...</td>\n",
       "      <td>102.0</td>\n",
       "      <td>120.0</td>\n",
       "      <td>B</td>\n",
       "      <td>0.0</td>\n",
       "      <td>1.0</td>\n",
       "      <td>0.0</td>\n",
       "      <td>0.0</td>\n",
       "      <td>0.0</td>\n",
       "      <td>4.25</td>\n",
       "      <td>1.0</td>\n",
       "    </tr>\n",
       "  </tbody>\n",
       "</table>\n",
       "<p>5 rows × 30 columns</p>\n",
       "</div>"
      ],
      "text/plain": [
       "  classNum  ID  nsLong  bsbLong  compLong  songList  noXmas  for   if  elif  \\\n",
       "0   class1   1     2.0      5.0       3.0       2.0     0.0  1.0  1.0   1.0   \n",
       "1   class1   2     5.0      5.0       5.0       5.0     3.0  3.0  5.0   5.0   \n",
       "2   class1   3     5.0      5.0       5.0       5.0     5.0  5.0  5.0   5.0   \n",
       "3   class1   4     5.0      5.0       5.0       5.0     5.0  5.0  5.0   3.0   \n",
       "4   class1   5     4.0      5.0       5.0       5.0     5.0  5.0  4.0   5.0   \n",
       "\n",
       "     ...      total  minSpent  bestBand  hot  qual  prod  members  other  \\\n",
       "0    ...       35.0     300.0       NaN  NaN   NaN   NaN      NaN    NaN   \n",
       "1    ...      101.0      60.0         B  1.0   0.0   0.0      0.0    0.0   \n",
       "2    ...      101.0      60.0         N  0.0   1.0   0.0      0.0    0.0   \n",
       "3    ...      103.0      30.0         B  0.0   0.0   1.0      0.0    0.0   \n",
       "4    ...      102.0     120.0         B  0.0   1.0   0.0      0.0    0.0   \n",
       "\n",
       "   ansCompProd  bsbLonger  \n",
       "0         1.00        0.0  \n",
       "1         4.25        1.0  \n",
       "2         1.00        0.0  \n",
       "3         4.25        1.0  \n",
       "4         4.25        1.0  \n",
       "\n",
       "[5 rows x 30 columns]"
      ]
     },
     "execution_count": 5,
     "metadata": {},
     "output_type": "execute_result"
    }
   ],
   "source": [
    "#look at what you've got\n",
    "indata.head()"
   ]
  },
  {
   "cell_type": "code",
   "execution_count": 4,
   "metadata": {
    "collapsed": true
   },
   "outputs": [],
   "source": [
    "#remove missing data - but not all, only cases that don't have an overall score\n",
    "valid = indata.dropna(subset=['total'])"
   ]
  },
  {
   "cell_type": "markdown",
   "metadata": {},
   "source": [
    "**A good first question: what's the average score in the class?**\n",
    "\n",
    "To find the mean, describe the relevant column (after dealing with missing data). The other lines mean the following:\n",
    "- *count*: number of cases/rows included in analysis\n",
    "- *mean*: mean value (sum of values divided by count)\n",
    "- *std*: standard deviation (a measure of how widely dispersed values are; a low std means most people had similar scores; 21 is quite high for assignment grades\n",
    "- *min*: lowest value in data - check for unusual values (like negative scores)\n",
    "- *25/50/75%*: quartiles - 25% of students have scores below 77.75, 50% below 95.5, and 75% below 101\n",
    "- *max*: highest value in data - check for unusual values (like scores more than the total possible = 105)"
   ]
  },
  {
   "cell_type": "code",
   "execution_count": 6,
   "metadata": {},
   "outputs": [
    {
     "data": {
      "text/plain": [
       "count     44.000000\n",
       "mean      85.159091\n",
       "std       21.341022\n",
       "min       35.000000\n",
       "25%       77.750000\n",
       "50%       95.500000\n",
       "75%      101.000000\n",
       "max      105.000000\n",
       "Name: total, dtype: float64"
      ]
     },
     "execution_count": 6,
     "metadata": {},
     "output_type": "execute_result"
    }
   ],
   "source": [
    "valid['total'].describe()"
   ]
  },
  {
   "cell_type": "markdown",
   "metadata": {},
   "source": [
    "**Ok, now we know the average score we saw, but what might the average score be for the same assignment in another similar class?**\n",
    "\n",
    "*For this question, we need to construct what's called a confidence interval, or CI. CIs give a range of values that samples (groups of actual cases) taken from the same population (potential cases) might have for something, in this case the mean overall score. The population here might be VT students who registered for any section of Data in Social Context, and the sample is students in this section who completed the assignment.*\n",
    "\n",
    "*Most scientists use a standard of 95% CI's, that is a range that we're 95% certain the population mean falls into based on the data. This means we accept a 5% probability that the mean is outside our calculated confidence interval."
   ]
  },
  {
   "cell_type": "code",
   "execution_count": 16,
   "metadata": {
    "collapsed": true
   },
   "outputs": [],
   "source": [
    "#We'll need some statistical tools here\n",
    "#Notice that some modules have multiple layers\n",
    "#If we just imported statsmodels, we'd have to type statsmodels.stats.weightstats.COMMAND every time\n",
    "import statsmodels.stats.weightstats as stats"
   ]
  },
  {
   "cell_type": "code",
   "execution_count": 9,
   "metadata": {},
   "outputs": [
    {
     "data": {
      "text/plain": [
       "(78.853337763333158, 91.464844054848655)"
      ]
     },
     "execution_count": 9,
     "metadata": {},
     "output_type": "execute_result"
    }
   ],
   "source": [
    "#The zconfint command returns the lower and higher bounds of the CI (and defaults to 95% CI).\n",
    "stats.zconfint(valid['total'])"
   ]
  },
  {
   "cell_type": "markdown",
   "metadata": {},
   "source": [
    "To interpret the values above in words:\n",
    "\n",
    "*we are 95% certain that the true or population mean score, were every DiSC student to have completed the assignment, would fall between 78.85 and 91.46.*"
   ]
  },
  {
   "cell_type": "markdown",
   "metadata": {},
   "source": [
    "**Hey, I wonder if people who think N Sync are better than Backstreet Boys are smarter (and do better work)? Or vice versa?**\n",
    "\n",
    "*For this question, we need not only to find the means, but to statistically compare them to see if any difference is likely to be due to chance. There will almost always be a difference between the means, even if it's very small, like a fraction of a point. So what's important is to know whether the difference is meaningful.*\n",
    "\n",
    "*In tests like this, most scientists use a p<0.05 test statistic, meaning we are willing to accept a 5% or 1 in 20 probability of finding a statistical difference when there isn't a true difference in the population. This prevents having very many false positives and is generally a conservative way of reporting findings.*"
   ]
  },
  {
   "cell_type": "code",
   "execution_count": 17,
   "metadata": {
    "collapsed": true
   },
   "outputs": [],
   "source": [
    "#First we need to make subsets of the groups we're comparing (people who thing N Sync are better or Backstreet Boys are better)\n",
    "#The first expression can be read \"valid where the value of the bestBand variable in valid is the string 'N'.\"\n",
    "nsLove=valid[valid['bestBand']=='N']\n",
    "#We do the same thing for Backstreet Boys. We're ignoring the \"Other\" and missing answers for now.\n",
    "bsbLove=valid[valid['bestBand']=='B']"
   ]
  },
  {
   "cell_type": "code",
   "execution_count": 11,
   "metadata": {},
   "outputs": [
    {
     "data": {
      "text/html": [
       "<div>\n",
       "<style>\n",
       "    .dataframe thead tr:only-child th {\n",
       "        text-align: right;\n",
       "    }\n",
       "\n",
       "    .dataframe thead th {\n",
       "        text-align: left;\n",
       "    }\n",
       "\n",
       "    .dataframe tbody tr th {\n",
       "        vertical-align: top;\n",
       "    }\n",
       "</style>\n",
       "<table border=\"1\" class=\"dataframe\">\n",
       "  <thead>\n",
       "    <tr style=\"text-align: right;\">\n",
       "      <th></th>\n",
       "      <th>classNum</th>\n",
       "      <th>ID</th>\n",
       "      <th>nsLong</th>\n",
       "      <th>bsbLong</th>\n",
       "      <th>compLong</th>\n",
       "      <th>songList</th>\n",
       "      <th>noXmas</th>\n",
       "      <th>for</th>\n",
       "      <th>if</th>\n",
       "      <th>elif</th>\n",
       "      <th>...</th>\n",
       "      <th>time</th>\n",
       "      <th>bonus</th>\n",
       "      <th>total</th>\n",
       "      <th>minSpent</th>\n",
       "      <th>bestBand</th>\n",
       "      <th>hot</th>\n",
       "      <th>qual</th>\n",
       "      <th>prod</th>\n",
       "      <th>members</th>\n",
       "      <th>other</th>\n",
       "    </tr>\n",
       "  </thead>\n",
       "  <tbody>\n",
       "    <tr>\n",
       "      <th>2</th>\n",
       "      <td>class1</td>\n",
       "      <td>3</td>\n",
       "      <td>5.0</td>\n",
       "      <td>5.0</td>\n",
       "      <td>5.0</td>\n",
       "      <td>5.0</td>\n",
       "      <td>5.0</td>\n",
       "      <td>5.0</td>\n",
       "      <td>5.0</td>\n",
       "      <td>5.0</td>\n",
       "      <td>...</td>\n",
       "      <td>5.0</td>\n",
       "      <td>5.0</td>\n",
       "      <td>101.0</td>\n",
       "      <td>60.0</td>\n",
       "      <td>N</td>\n",
       "      <td>0.0</td>\n",
       "      <td>1.0</td>\n",
       "      <td>0.0</td>\n",
       "      <td>0.0</td>\n",
       "      <td>0.0</td>\n",
       "    </tr>\n",
       "    <tr>\n",
       "      <th>5</th>\n",
       "      <td>class1</td>\n",
       "      <td>6</td>\n",
       "      <td>5.0</td>\n",
       "      <td>5.0</td>\n",
       "      <td>5.0</td>\n",
       "      <td>5.0</td>\n",
       "      <td>5.0</td>\n",
       "      <td>5.0</td>\n",
       "      <td>5.0</td>\n",
       "      <td>3.0</td>\n",
       "      <td>...</td>\n",
       "      <td>5.0</td>\n",
       "      <td>5.0</td>\n",
       "      <td>99.0</td>\n",
       "      <td>60.0</td>\n",
       "      <td>N</td>\n",
       "      <td>0.0</td>\n",
       "      <td>0.0</td>\n",
       "      <td>1.0</td>\n",
       "      <td>0.0</td>\n",
       "      <td>0.0</td>\n",
       "    </tr>\n",
       "    <tr>\n",
       "      <th>10</th>\n",
       "      <td>class2</td>\n",
       "      <td>11</td>\n",
       "      <td>5.0</td>\n",
       "      <td>5.0</td>\n",
       "      <td>3.0</td>\n",
       "      <td>5.0</td>\n",
       "      <td>5.0</td>\n",
       "      <td>5.0</td>\n",
       "      <td>5.0</td>\n",
       "      <td>5.0</td>\n",
       "      <td>...</td>\n",
       "      <td>5.0</td>\n",
       "      <td>5.0</td>\n",
       "      <td>103.0</td>\n",
       "      <td>300.0</td>\n",
       "      <td>N</td>\n",
       "      <td>0.0</td>\n",
       "      <td>1.0</td>\n",
       "      <td>0.0</td>\n",
       "      <td>0.0</td>\n",
       "      <td>0.0</td>\n",
       "    </tr>\n",
       "    <tr>\n",
       "      <th>12</th>\n",
       "      <td>class2</td>\n",
       "      <td>13</td>\n",
       "      <td>5.0</td>\n",
       "      <td>5.0</td>\n",
       "      <td>5.0</td>\n",
       "      <td>5.0</td>\n",
       "      <td>5.0</td>\n",
       "      <td>5.0</td>\n",
       "      <td>5.0</td>\n",
       "      <td>5.0</td>\n",
       "      <td>...</td>\n",
       "      <td>5.0</td>\n",
       "      <td>5.0</td>\n",
       "      <td>98.0</td>\n",
       "      <td>40.0</td>\n",
       "      <td>N</td>\n",
       "      <td>0.0</td>\n",
       "      <td>1.0</td>\n",
       "      <td>0.0</td>\n",
       "      <td>1.0</td>\n",
       "      <td>0.0</td>\n",
       "    </tr>\n",
       "    <tr>\n",
       "      <th>19</th>\n",
       "      <td>class2</td>\n",
       "      <td>20</td>\n",
       "      <td>4.0</td>\n",
       "      <td>5.0</td>\n",
       "      <td>5.0</td>\n",
       "      <td>5.0</td>\n",
       "      <td>3.0</td>\n",
       "      <td>5.0</td>\n",
       "      <td>3.0</td>\n",
       "      <td>3.0</td>\n",
       "      <td>...</td>\n",
       "      <td>5.0</td>\n",
       "      <td>5.0</td>\n",
       "      <td>92.0</td>\n",
       "      <td>210.0</td>\n",
       "      <td>N</td>\n",
       "      <td>0.0</td>\n",
       "      <td>0.0</td>\n",
       "      <td>0.0</td>\n",
       "      <td>1.0</td>\n",
       "      <td>0.0</td>\n",
       "    </tr>\n",
       "  </tbody>\n",
       "</table>\n",
       "<p>5 rows × 28 columns</p>\n",
       "</div>"
      ],
      "text/plain": [
       "   classNum  ID  nsLong  bsbLong  compLong  songList  noXmas  for   if  elif  \\\n",
       "2    class1   3     5.0      5.0       5.0       5.0     5.0  5.0  5.0   5.0   \n",
       "5    class1   6     5.0      5.0       5.0       5.0     5.0  5.0  5.0   3.0   \n",
       "10   class2  11     5.0      5.0       3.0       5.0     5.0  5.0  5.0   5.0   \n",
       "12   class2  13     5.0      5.0       5.0       5.0     5.0  5.0  5.0   5.0   \n",
       "19   class2  20     4.0      5.0       5.0       5.0     3.0  5.0  3.0   3.0   \n",
       "\n",
       "    ...    time  bonus  total  minSpent  bestBand  hot  qual  prod  members  \\\n",
       "2   ...     5.0    5.0  101.0      60.0         N  0.0   1.0   0.0      0.0   \n",
       "5   ...     5.0    5.0   99.0      60.0         N  0.0   0.0   1.0      0.0   \n",
       "10  ...     5.0    5.0  103.0     300.0         N  0.0   1.0   0.0      0.0   \n",
       "12  ...     5.0    5.0   98.0      40.0         N  0.0   1.0   0.0      1.0   \n",
       "19  ...     5.0    5.0   92.0     210.0         N  0.0   0.0   0.0      1.0   \n",
       "\n",
       "    other  \n",
       "2     0.0  \n",
       "5     0.0  \n",
       "10    0.0  \n",
       "12    0.0  \n",
       "19    0.0  \n",
       "\n",
       "[5 rows x 28 columns]"
      ]
     },
     "execution_count": 11,
     "metadata": {},
     "output_type": "execute_result"
    }
   ],
   "source": [
    "#Scroll over to 'bestBand' and check that it worked\n",
    "nsLove.head()"
   ]
  },
  {
   "cell_type": "code",
   "execution_count": 12,
   "metadata": {},
   "outputs": [
    {
     "data": {
      "text/plain": [
       "count     13.000000\n",
       "mean      92.923077\n",
       "std       15.332218\n",
       "min       48.000000\n",
       "25%       91.000000\n",
       "50%       99.000000\n",
       "75%      101.000000\n",
       "max      105.000000\n",
       "Name: total, dtype: float64"
      ]
     },
     "execution_count": 12,
     "metadata": {},
     "output_type": "execute_result"
    }
   ],
   "source": [
    "#Let's see the means\n",
    "nsLove['total'].describe()"
   ]
  },
  {
   "cell_type": "code",
   "execution_count": 13,
   "metadata": {},
   "outputs": [
    {
     "data": {
      "text/plain": [
       "count     25.000000\n",
       "mean      86.600000\n",
       "std       19.050372\n",
       "min       44.000000\n",
       "25%       78.000000\n",
       "50%       94.000000\n",
       "75%      102.000000\n",
       "max      105.000000\n",
       "Name: total, dtype: float64"
      ]
     },
     "execution_count": 13,
     "metadata": {},
     "output_type": "execute_result"
    }
   ],
   "source": [
    "bsbLove['total'].describe()"
   ]
  },
  {
   "cell_type": "markdown",
   "metadata": {},
   "source": [
    "**92.9 certainly looks larger than 86.6, but is it meaningful or the result of random differences in samples?**\n",
    "\n",
    "*Let's use a T-test (again a procedure in statsmodels) to find out.*"
   ]
  },
  {
   "cell_type": "code",
   "execution_count": 14,
   "metadata": {},
   "outputs": [
    {
     "data": {
      "text/plain": [
       "6.3230769230769255"
      ]
     },
     "execution_count": 14,
     "metadata": {},
     "output_type": "execute_result"
    }
   ],
   "source": [
    "#For reference, this is how you would calculate the difference automatically\n",
    "nsLove['total'].mean()-bsbLove['total'].mean()\n"
   ]
  },
  {
   "cell_type": "code",
   "execution_count": 15,
   "metadata": {},
   "outputs": [
    {
     "data": {
      "text/plain": [
       "(1.0332313152236081, 0.30838715138763295, 36.0)"
      ]
     },
     "execution_count": 15,
     "metadata": {},
     "output_type": "execute_result"
    }
   ],
   "source": [
    "#Test the difference of means using a T-test\n",
    "import statsmodels.stats.weightstats as stats\n",
    "stats.ttest_ind(nsLove['total'],bsbLove['total'])"
   ]
  },
  {
   "cell_type": "markdown",
   "metadata": {},
   "source": [
    "To interpret the above:\n",
    "- The first value is the *T-Statistic*, which is used to conduct the test. Larger values are associated with more probability of a meaningful difference\n",
    "- The **second value, the p-value of the test,** is the key here. If p is less than 0.05, we say there is a statistically significant difference between the groups; e.g. they're not random samples drawn from the same population. Remember there is still a 1 in 20 probability that you're wrong, but if the test value p is decreased, we then increase the probability of not finding a difference even when there is a true difference.\n",
    "- The third value is the degrees of freedom for the test, which is based on the number of cases. More cases provide more degrees of freedom, which allows for more statistical confidence even with the same differences in means. This is why you can't just ask the three people next to you which band is better and assume that more people in the US (or even the class) prefer whichever two of the three of them say."
   ]
  },
  {
   "cell_type": "markdown",
   "metadata": {},
   "source": [
    "**That's it for Wednesday. On Friday (now below), we talked about other statistical tests to work with different kinds of variables and how to decide what you need. Thanks!**"
   ]
  },
  {
   "cell_type": "markdown",
   "metadata": {},
   "source": [
    "\n",
    "\n",
    "**\\*Friday 2018-10-12 Variable types, how to choose a statistics, and Chi-squared tests\\***"
   ]
  },
  {
   "cell_type": "markdown",
   "metadata": {},
   "source": [
    "If you haven't already, run the code above to ensure you have the correct packages imported and have the *indata* and *valid* dataframes created.\n",
    "\n",
    "The first thing we did today was take a step back from how to run statistics and asked how to decide on a statistic. To do that, we need some terminology.\n",
    "\n",
    "An **interval variable** is a number, like your score on an assignment. Values can not only be compared (larger, smaller, equal) but can be stated in relation to each other (i.e. Student B scored 5 less than student A; Student B missed twice as many points as student A).\n",
    "\n",
    "An **ordinal variable** still has order (larger, smaller, equal) but the units are not consistent or comparable. If I ask \"how satisfied are you with your life overall right now?\" and give the options [\"not at all satisfied\", \"somewhat satisfied\", \"very satisfied\"], not only do I not know whether the distance between \"not at all\" and \"somewhat\" is the same as from \"somewhat\" to \"very\", the distances will change from person to person. Even so, the three categories have a clear order.\n",
    "\n",
    "A **nominal** or **categorical variable** has neither quantity nor order, but is instead made of categories or names (thus why they're called categorical or nominal). Hair color is categorical. Red is not more or less of something than blond, unless you're scientifically measuring the volume of certain pigments. Sometimes numbers will be assigned to categories of a nominal variable, but they still can't be compared in the same way as interval or ordinal variables.\n"
   ]
  },
  {
   "cell_type": "markdown",
   "metadata": {},
   "source": [
    "Depending on the level of a variable (interval, ordinal or nominal), there are different techniques that can be used to summarize and compare it. To take a simple example, a nominal variable can't have a mean. If half of people have blond hair and half have brown, you can't just say that people typically have dirty blond hair.\n",
    "\n",
    "We filled out part of a table in class, a simplified version of which is below. We'll ignore ordinal variables for now.\n",
    "\n",
    "**Dependent variable** types are in the rows. The dependent variable is the variable you're really interested in knowing about. If your research question is why some students score higher than others, the dependent variable is *score* and your **independent variables** are anything you think might affect that score. \n",
    "\n",
    "Relationships aren't always causal; you may just want to know whether things tend to happen together. In that case, your dependent variable is whichever you're most interested in explaining.\n",
    "\n",
    "Here is the table:\n",
    "<img src='https://github.com/ndporter/pythonDiSC/raw/master/VariableTypesTable.JPG'>\n",
    "\n",
    "The cells *in italic* are the ones we're concerned with here. The others [in brackets] we haven't covered, but I include them for completeness.\n"
   ]
  },
  {
   "cell_type": "markdown",
   "metadata": {},
   "source": [
    "We can summarize information without statistics, but we need the statistics in this table to tell us how precise our summary is.\n",
    "\n",
    "We can calculate the average (mean) value of a variable and summarize it in one number. *BUT* a **confidence interval of the mean** allows us to estimate what the average could have been if our sample was different (in our data, if the students in our class were different).\n",
    "\n",
    "We can make a crosstab table of two categorical variables and show how many cases are in each cell. *BUT* a **chi-squared test** allows us to test whether any differences we see in the proportions in each cell are likely due to chance or actually meaningful.\n",
    "\n",
    "We can estimate separate means of the same variable for two groups of people (or any type of cases). *BUT* a **T-test** allows us to test whether the difference between those means (they very rarely are exactly the same) is likely due to chance or actually meaningful.\n",
    "\n",
    "Above, we've already calculated a confidence interval and done a t-test of the difference of means. Below, we will make a cross-tabulation table and run a chi-squared test on it. After that, I will demonstrate how to estimate OLS regression, ANOVA and logistic regression, but *you will not be responsible for understanding or using them in this class*."
   ]
  },
  {
   "cell_type": "code",
   "execution_count": 5,
   "metadata": {},
   "outputs": [],
   "source": [
    "#pandas has built-in cross-tab functionality that makes very nice tables\n",
    "#the crosstab command follows the format (rows,columns)\n",
    "tab = pd.crosstab(valid['classNum'],valid['bestBand'])"
   ]
  },
  {
   "cell_type": "code",
   "execution_count": 6,
   "metadata": {},
   "outputs": [
    {
     "data": {
      "text/html": [
       "<div>\n",
       "<style>\n",
       "    .dataframe thead tr:only-child th {\n",
       "        text-align: right;\n",
       "    }\n",
       "\n",
       "    .dataframe thead th {\n",
       "        text-align: left;\n",
       "    }\n",
       "\n",
       "    .dataframe tbody tr th {\n",
       "        vertical-align: top;\n",
       "    }\n",
       "</style>\n",
       "<table border=\"1\" class=\"dataframe\">\n",
       "  <thead>\n",
       "    <tr style=\"text-align: right;\">\n",
       "      <th>bestBand</th>\n",
       "      <th>B</th>\n",
       "      <th>N</th>\n",
       "      <th>O</th>\n",
       "    </tr>\n",
       "    <tr>\n",
       "      <th>classNum</th>\n",
       "      <th></th>\n",
       "      <th></th>\n",
       "      <th></th>\n",
       "    </tr>\n",
       "  </thead>\n",
       "  <tbody>\n",
       "    <tr>\n",
       "      <th>class1</th>\n",
       "      <td>3</td>\n",
       "      <td>2</td>\n",
       "      <td>0</td>\n",
       "    </tr>\n",
       "    <tr>\n",
       "      <th>class2</th>\n",
       "      <td>18</td>\n",
       "      <td>6</td>\n",
       "      <td>1</td>\n",
       "    </tr>\n",
       "    <tr>\n",
       "      <th>class3</th>\n",
       "      <td>4</td>\n",
       "      <td>5</td>\n",
       "      <td>1</td>\n",
       "    </tr>\n",
       "  </tbody>\n",
       "</table>\n",
       "</div>"
      ],
      "text/plain": [
       "bestBand   B  N  O\n",
       "classNum          \n",
       "class1     3  2  0\n",
       "class2    18  6  1\n",
       "class3     4  5  1"
      ]
     },
     "execution_count": 6,
     "metadata": {},
     "output_type": "execute_result"
    }
   ],
   "source": [
    "#Exampine the table we made\n",
    "#To read the first row...\n",
    "#In class1: 3 students think Backstreet Boys are better, 2 students think N Sync\n",
    "tab"
   ]
  },
  {
   "cell_type": "code",
   "execution_count": 15,
   "metadata": {
    "collapsed": true
   },
   "outputs": [],
   "source": [
    "#It looks like class2 is different from the others; they seem to really like BSB\n",
    "#But is the difference maybe just random? Let's check with a chi-squared test\n",
    "#Don't forget you can search for documentation or examples for any of these procedures to see more about them\n",
    "\n",
    "#Import the chi-squared procedure from scipy (the package name is short for \"scientific python\")\n",
    "from scipy.stats.contingency import chi2_contingency"
   ]
  },
  {
   "cell_type": "code",
   "execution_count": 8,
   "metadata": {},
   "outputs": [
    {
     "data": {
      "text/plain": [
       "(3.5606153846153843,\n",
       " 0.46872169381747264,\n",
       " 4,\n",
       " array([[  3.125,   1.625,   0.25 ],\n",
       "        [ 15.625,   8.125,   1.25 ],\n",
       "        [  6.25 ,   3.25 ,   0.5  ]]))"
      ]
     },
     "execution_count": 8,
     "metadata": {},
     "output_type": "execute_result"
    }
   ],
   "source": [
    "#the values returned are the Chi-square statistic, p-value, degrees of freedom, and the expected counts\n",
    "#p-value is most important for you - remember we're typically willing to accept a 1 in 20 (0.05) probabily a positive result is due to chance\n",
    "chi2_contingency(tab)"
   ]
  },
  {
   "cell_type": "code",
   "execution_count": 14,
   "metadata": {},
   "outputs": [],
   "source": [
    "from statsmodels.formula.api import ols\n",
    "import statsmodels.api as sm\n",
    "#ignore any warning this throws (it's not an error)\n",
    "#it has to do with a part of the modules we aren't using"
   ]
  },
  {
   "cell_type": "markdown",
   "metadata": {},
   "source": [
    "**You're done! You can look below if you're interested in how to run an OLS regression and have enough statistical background to understand what the output means. Otherwise, you can get started on the assignment!"
   ]
  },
  {
   "cell_type": "code",
   "execution_count": 10,
   "metadata": {
    "collapsed": true
   },
   "outputs": [],
   "source": [
    "#Which classes if any do better on the assignment?\n",
    "model = ols('total ~ classNum',data=valid).fit()"
   ]
  },
  {
   "cell_type": "code",
   "execution_count": 13,
   "metadata": {},
   "outputs": [
    {
     "data": {
      "text/html": [
       "<table class=\"simpletable\">\n",
       "<caption>OLS Regression Results</caption>\n",
       "<tr>\n",
       "  <th>Dep. Variable:</th>          <td>total</td>      <th>  R-squared:         </th> <td>   0.028</td>\n",
       "</tr>\n",
       "<tr>\n",
       "  <th>Model:</th>                   <td>OLS</td>       <th>  Adj. R-squared:    </th> <td>  -0.020</td>\n",
       "</tr>\n",
       "<tr>\n",
       "  <th>Method:</th>             <td>Least Squares</td>  <th>  F-statistic:       </th> <td>  0.5886</td>\n",
       "</tr>\n",
       "<tr>\n",
       "  <th>Date:</th>             <td>Fri, 12 Oct 2018</td> <th>  Prob (F-statistic):</th>  <td> 0.560</td> \n",
       "</tr>\n",
       "<tr>\n",
       "  <th>Time:</th>                 <td>10:33:58</td>     <th>  Log-Likelihood:    </th> <td> -195.97</td>\n",
       "</tr>\n",
       "<tr>\n",
       "  <th>No. Observations:</th>      <td>    44</td>      <th>  AIC:               </th> <td>   397.9</td>\n",
       "</tr>\n",
       "<tr>\n",
       "  <th>Df Residuals:</th>          <td>    41</td>      <th>  BIC:               </th> <td>   403.3</td>\n",
       "</tr>\n",
       "<tr>\n",
       "  <th>Df Model:</th>              <td>     2</td>      <th>                     </th>     <td> </td>   \n",
       "</tr>\n",
       "<tr>\n",
       "  <th>Covariance Type:</th>      <td>nonrobust</td>    <th>                     </th>     <td> </td>   \n",
       "</tr>\n",
       "</table>\n",
       "<table class=\"simpletable\">\n",
       "<tr>\n",
       "           <td></td>             <th>coef</th>     <th>std err</th>      <th>t</th>      <th>P>|t|</th>  <th>[0.025</th>    <th>0.975]</th>  \n",
       "</tr>\n",
       "<tr>\n",
       "  <th>Intercept</th>          <td>   90.1667</td> <td>    8.797</td> <td>   10.250</td> <td> 0.000</td> <td>   72.401</td> <td>  107.933</td>\n",
       "</tr>\n",
       "<tr>\n",
       "  <th>classNum[T.class2]</th> <td>   -7.7963</td> <td>    9.725</td> <td>   -0.802</td> <td> 0.427</td> <td>  -27.437</td> <td>   11.845</td>\n",
       "</tr>\n",
       "<tr>\n",
       "  <th>classNum[T.class3]</th> <td>   -0.8939</td> <td>   10.936</td> <td>   -0.082</td> <td> 0.935</td> <td>  -22.980</td> <td>   21.192</td>\n",
       "</tr>\n",
       "</table>\n",
       "<table class=\"simpletable\">\n",
       "<tr>\n",
       "  <th>Omnibus:</th>       <td> 8.757</td> <th>  Durbin-Watson:     </th> <td>   1.936</td>\n",
       "</tr>\n",
       "<tr>\n",
       "  <th>Prob(Omnibus):</th> <td> 0.013</td> <th>  Jarque-Bera (JB):  </th> <td>   8.853</td>\n",
       "</tr>\n",
       "<tr>\n",
       "  <th>Skew:</th>          <td>-1.098</td> <th>  Prob(JB):          </th> <td>  0.0120</td>\n",
       "</tr>\n",
       "<tr>\n",
       "  <th>Kurtosis:</th>      <td> 3.059</td> <th>  Cond. No.          </th> <td>    5.97</td>\n",
       "</tr>\n",
       "</table>"
      ],
      "text/plain": [
       "<class 'statsmodels.iolib.summary.Summary'>\n",
       "\"\"\"\n",
       "                            OLS Regression Results                            \n",
       "==============================================================================\n",
       "Dep. Variable:                  total   R-squared:                       0.028\n",
       "Model:                            OLS   Adj. R-squared:                 -0.020\n",
       "Method:                 Least Squares   F-statistic:                    0.5886\n",
       "Date:                Fri, 12 Oct 2018   Prob (F-statistic):              0.560\n",
       "Time:                        10:33:58   Log-Likelihood:                -195.97\n",
       "No. Observations:                  44   AIC:                             397.9\n",
       "Df Residuals:                      41   BIC:                             403.3\n",
       "Df Model:                           2                                         \n",
       "Covariance Type:            nonrobust                                         \n",
       "======================================================================================\n",
       "                         coef    std err          t      P>|t|      [0.025      0.975]\n",
       "--------------------------------------------------------------------------------------\n",
       "Intercept             90.1667      8.797     10.250      0.000      72.401     107.933\n",
       "classNum[T.class2]    -7.7963      9.725     -0.802      0.427     -27.437      11.845\n",
       "classNum[T.class3]    -0.8939     10.936     -0.082      0.935     -22.980      21.192\n",
       "==============================================================================\n",
       "Omnibus:                        8.757   Durbin-Watson:                   1.936\n",
       "Prob(Omnibus):                  0.013   Jarque-Bera (JB):                8.853\n",
       "Skew:                          -1.098   Prob(JB):                       0.0120\n",
       "Kurtosis:                       3.059   Cond. No.                         5.97\n",
       "==============================================================================\n",
       "\n",
       "Warnings:\n",
       "[1] Standard Errors assume that the covariance matrix of the errors is correctly specified.\n",
       "\"\"\""
      ]
     },
     "execution_count": 13,
     "metadata": {},
     "output_type": "execute_result"
    }
   ],
   "source": [
    "model.summary()"
   ]
  },
  {
   "cell_type": "code",
   "execution_count": null,
   "metadata": {
    "collapsed": true
   },
   "outputs": [],
   "source": []
  }
 ],
 "metadata": {
  "kernelspec": {
   "display_name": "Python 3",
   "language": "python",
   "name": "python3"
  },
  "language_info": {
   "codemirror_mode": {
    "name": "ipython",
    "version": 3
   },
   "file_extension": ".py",
   "mimetype": "text/x-python",
   "name": "python",
   "nbconvert_exporter": "python",
   "pygments_lexer": "ipython3",
   "version": "3.6.2"
  }
 },
 "nbformat": 4,
 "nbformat_minor": 2
}
