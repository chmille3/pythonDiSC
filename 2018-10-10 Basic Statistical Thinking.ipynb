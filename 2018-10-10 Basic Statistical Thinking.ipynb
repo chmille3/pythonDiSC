{
 "cells": [
  {
   "cell_type": "markdown",
   "metadata": {},
   "source": [
    "2018-10-10 In-class notes - Data in Social Context\n",
    "\n",
    "**What does statistical thinking look like and how do I interpret statistical output in Python?**\n",
    "\n",
    "*The goal of todays class is to better understand the difference between simplistic data-driven thinking and statistical thinking. In a nutshell, the type of statistics I mean here are meant to help answer the questions \"Is it real?\" or \"Does it matter?\"*\n",
    "\n",
    "*Suppose the top two students in a class have a 98.1% semester grade and a 98.2% semester grade respectively. Which one is the better student? Simplistic data-driven thinking says student 1 is better because they have a higher grade. But any number of factors could have produced the difference, from the timing of assignments for other classes to the relative weighting of skills associated with each student's strengths. Few people would argue that Student 1 is conclusively a stronger student.*\n",
    "\n",
    "*Statistics provide a mathematically-informed way to make such decisions. In today's lesson, we'll test the likely range of population means of scores, had other similar students had the same assignment, and whether students who like N Sync are actually more successful in their assignments than those that prefer Backstreet Boys.*"
   ]
  },
  {
   "cell_type": "code",
   "execution_count": 2,
   "metadata": {
    "collapsed": true
   },
   "outputs": [],
   "source": [
    "#import pandas\n",
    "import pandas as pd"
   ]
  },
  {
   "cell_type": "code",
   "execution_count": 3,
   "metadata": {
    "collapsed": true
   },
   "outputs": [],
   "source": [
    "#read data in from github (no download)\n",
    "indata = pd.read_excel('https://github.com/ndporter/pythonDiSC/raw/master/Foundations_grades_F18_anon.xlsx')"
   ]
  },
  {
   "cell_type": "code",
   "execution_count": 4,
   "metadata": {
    "scrolled": true
   },
   "outputs": [
    {
     "data": {
      "text/html": [
       "<div>\n",
       "<style>\n",
       "    .dataframe thead tr:only-child th {\n",
       "        text-align: right;\n",
       "    }\n",
       "\n",
       "    .dataframe thead th {\n",
       "        text-align: left;\n",
       "    }\n",
       "\n",
       "    .dataframe tbody tr th {\n",
       "        vertical-align: top;\n",
       "    }\n",
       "</style>\n",
       "<table border=\"1\" class=\"dataframe\">\n",
       "  <thead>\n",
       "    <tr style=\"text-align: right;\">\n",
       "      <th></th>\n",
       "      <th>classNum</th>\n",
       "      <th>ID</th>\n",
       "      <th>nsLong</th>\n",
       "      <th>bsbLong</th>\n",
       "      <th>compLong</th>\n",
       "      <th>songList</th>\n",
       "      <th>noXmas</th>\n",
       "      <th>for</th>\n",
       "      <th>if</th>\n",
       "      <th>elif</th>\n",
       "      <th>...</th>\n",
       "      <th>time</th>\n",
       "      <th>bonus</th>\n",
       "      <th>total</th>\n",
       "      <th>minSpent</th>\n",
       "      <th>bestBand</th>\n",
       "      <th>hot</th>\n",
       "      <th>qual</th>\n",
       "      <th>prod</th>\n",
       "      <th>members</th>\n",
       "      <th>other</th>\n",
       "    </tr>\n",
       "  </thead>\n",
       "  <tbody>\n",
       "    <tr>\n",
       "      <th>0</th>\n",
       "      <td>class1</td>\n",
       "      <td>1</td>\n",
       "      <td>2.0</td>\n",
       "      <td>5.0</td>\n",
       "      <td>3.0</td>\n",
       "      <td>2.0</td>\n",
       "      <td>0.0</td>\n",
       "      <td>1.0</td>\n",
       "      <td>1.0</td>\n",
       "      <td>1.0</td>\n",
       "      <td>...</td>\n",
       "      <td>5.0</td>\n",
       "      <td>0.0</td>\n",
       "      <td>35.0</td>\n",
       "      <td>300.0</td>\n",
       "      <td>NaN</td>\n",
       "      <td>NaN</td>\n",
       "      <td>NaN</td>\n",
       "      <td>NaN</td>\n",
       "      <td>NaN</td>\n",
       "      <td>NaN</td>\n",
       "    </tr>\n",
       "    <tr>\n",
       "      <th>1</th>\n",
       "      <td>class1</td>\n",
       "      <td>2</td>\n",
       "      <td>5.0</td>\n",
       "      <td>5.0</td>\n",
       "      <td>5.0</td>\n",
       "      <td>5.0</td>\n",
       "      <td>3.0</td>\n",
       "      <td>3.0</td>\n",
       "      <td>5.0</td>\n",
       "      <td>5.0</td>\n",
       "      <td>...</td>\n",
       "      <td>5.0</td>\n",
       "      <td>5.0</td>\n",
       "      <td>101.0</td>\n",
       "      <td>60.0</td>\n",
       "      <td>B</td>\n",
       "      <td>1.0</td>\n",
       "      <td>0.0</td>\n",
       "      <td>0.0</td>\n",
       "      <td>0.0</td>\n",
       "      <td>0.0</td>\n",
       "    </tr>\n",
       "    <tr>\n",
       "      <th>2</th>\n",
       "      <td>class1</td>\n",
       "      <td>3</td>\n",
       "      <td>5.0</td>\n",
       "      <td>5.0</td>\n",
       "      <td>5.0</td>\n",
       "      <td>5.0</td>\n",
       "      <td>5.0</td>\n",
       "      <td>5.0</td>\n",
       "      <td>5.0</td>\n",
       "      <td>5.0</td>\n",
       "      <td>...</td>\n",
       "      <td>5.0</td>\n",
       "      <td>5.0</td>\n",
       "      <td>101.0</td>\n",
       "      <td>60.0</td>\n",
       "      <td>N</td>\n",
       "      <td>0.0</td>\n",
       "      <td>1.0</td>\n",
       "      <td>0.0</td>\n",
       "      <td>0.0</td>\n",
       "      <td>0.0</td>\n",
       "    </tr>\n",
       "    <tr>\n",
       "      <th>3</th>\n",
       "      <td>class1</td>\n",
       "      <td>4</td>\n",
       "      <td>5.0</td>\n",
       "      <td>5.0</td>\n",
       "      <td>5.0</td>\n",
       "      <td>5.0</td>\n",
       "      <td>5.0</td>\n",
       "      <td>5.0</td>\n",
       "      <td>5.0</td>\n",
       "      <td>3.0</td>\n",
       "      <td>...</td>\n",
       "      <td>5.0</td>\n",
       "      <td>5.0</td>\n",
       "      <td>103.0</td>\n",
       "      <td>30.0</td>\n",
       "      <td>B</td>\n",
       "      <td>0.0</td>\n",
       "      <td>0.0</td>\n",
       "      <td>1.0</td>\n",
       "      <td>0.0</td>\n",
       "      <td>0.0</td>\n",
       "    </tr>\n",
       "    <tr>\n",
       "      <th>4</th>\n",
       "      <td>class1</td>\n",
       "      <td>5</td>\n",
       "      <td>4.0</td>\n",
       "      <td>5.0</td>\n",
       "      <td>5.0</td>\n",
       "      <td>5.0</td>\n",
       "      <td>5.0</td>\n",
       "      <td>5.0</td>\n",
       "      <td>4.0</td>\n",
       "      <td>5.0</td>\n",
       "      <td>...</td>\n",
       "      <td>5.0</td>\n",
       "      <td>5.0</td>\n",
       "      <td>102.0</td>\n",
       "      <td>120.0</td>\n",
       "      <td>B</td>\n",
       "      <td>0.0</td>\n",
       "      <td>1.0</td>\n",
       "      <td>0.0</td>\n",
       "      <td>0.0</td>\n",
       "      <td>0.0</td>\n",
       "    </tr>\n",
       "  </tbody>\n",
       "</table>\n",
       "<p>5 rows × 28 columns</p>\n",
       "</div>"
      ],
      "text/plain": [
       "  classNum  ID  nsLong  bsbLong  compLong  songList  noXmas  for   if  elif  \\\n",
       "0   class1   1     2.0      5.0       3.0       2.0     0.0  1.0  1.0   1.0   \n",
       "1   class1   2     5.0      5.0       5.0       5.0     3.0  3.0  5.0   5.0   \n",
       "2   class1   3     5.0      5.0       5.0       5.0     5.0  5.0  5.0   5.0   \n",
       "3   class1   4     5.0      5.0       5.0       5.0     5.0  5.0  5.0   3.0   \n",
       "4   class1   5     4.0      5.0       5.0       5.0     5.0  5.0  4.0   5.0   \n",
       "\n",
       "   ...    time  bonus  total  minSpent  bestBand  hot  qual  prod  members  \\\n",
       "0  ...     5.0    0.0   35.0     300.0       NaN  NaN   NaN   NaN      NaN   \n",
       "1  ...     5.0    5.0  101.0      60.0         B  1.0   0.0   0.0      0.0   \n",
       "2  ...     5.0    5.0  101.0      60.0         N  0.0   1.0   0.0      0.0   \n",
       "3  ...     5.0    5.0  103.0      30.0         B  0.0   0.0   1.0      0.0   \n",
       "4  ...     5.0    5.0  102.0     120.0         B  0.0   1.0   0.0      0.0   \n",
       "\n",
       "   other  \n",
       "0    NaN  \n",
       "1    0.0  \n",
       "2    0.0  \n",
       "3    0.0  \n",
       "4    0.0  \n",
       "\n",
       "[5 rows x 28 columns]"
      ]
     },
     "execution_count": 4,
     "metadata": {},
     "output_type": "execute_result"
    }
   ],
   "source": [
    "#look at what you've got\n",
    "indata.head()"
   ]
  },
  {
   "cell_type": "code",
   "execution_count": 5,
   "metadata": {
    "collapsed": true
   },
   "outputs": [],
   "source": [
    "#remove missing data - but not all, only cases that don't have an overall score\n",
    "valid = indata.dropna(subset=['total'])"
   ]
  },
  {
   "cell_type": "markdown",
   "metadata": {},
   "source": [
    "**A good first question: what's the average score in the class?**\n",
    "\n",
    "To find the mean, describe the relevant column (after dealing with missing data). The other lines mean the following:\n",
    "- *count* number of cases/rows included in analysis\n",
    "- *mean* mean value (sum of values divided by count)\n",
    "- *std* standard deviation (a measure of how widely dispersed values are; a low std means most people had similar scores; 21 is quite high for assignment grades\n",
    "- *min* lowest value in data - check for unusual values (like negative scores)\n",
    "- *25/50/75%* quartiles - 25% of students have scores below 77.75, 50% below 95.5, and 75% below 101\n",
    "- *max* highest value in data - check for unusual values (like scores more than the total possible = 105)"
   ]
  },
  {
   "cell_type": "code",
   "execution_count": 6,
   "metadata": {},
   "outputs": [
    {
     "data": {
      "text/plain": [
       "count     44.000000\n",
       "mean      85.159091\n",
       "std       21.341022\n",
       "min       35.000000\n",
       "25%       77.750000\n",
       "50%       95.500000\n",
       "75%      101.000000\n",
       "max      105.000000\n",
       "Name: total, dtype: float64"
      ]
     },
     "execution_count": 6,
     "metadata": {},
     "output_type": "execute_result"
    }
   ],
   "source": [
    "valid['total'].describe()"
   ]
  },
  {
   "cell_type": "markdown",
   "metadata": {},
   "source": [
    "**Ok, now we know the average score we saw, but what might the average score be for the same assignment in another similar class?**\n",
    "\n",
    "*For this question, we need to construct what's called a confidence interval, or CI. CIs give a range of values that samples (groups of actual cases) taken from the same population (potential cases) might have for something, in this case the mean overall score. The population here might be VT students who registered for any section of Data in Social Context, and the sample is students in this section who completed the assignment.*\n",
    "\n",
    "*Most scientists use a standard of 95% CI's, that is a range that we're 95% certain the population mean falls into based on the data. This means we accept a 5% probability that the mean is outside our calculated confidence interval."
   ]
  },
  {
   "cell_type": "code",
   "execution_count": 16,
   "metadata": {},
   "outputs": [],
   "source": [
    "#We'll need some statistical tools here\n",
    "#Notice that some modules have multiple layers\n",
    "#If we just imported statsmodels, we'd have to type statsmodels.stats.weightstats.COMMAND every time\n",
    "import statsmodels.stats.weightstats as stats"
   ]
  },
  {
   "cell_type": "code",
   "execution_count": 9,
   "metadata": {},
   "outputs": [
    {
     "data": {
      "text/plain": [
       "(78.853337763333158, 91.464844054848655)"
      ]
     },
     "execution_count": 9,
     "metadata": {},
     "output_type": "execute_result"
    }
   ],
   "source": [
    "#The zconfint command returns the lower and higher bounds of the CI (and defaults to 95% CI).\n",
    "stats.zconfint(valid['total'])"
   ]
  },
  {
   "cell_type": "markdown",
   "metadata": {},
   "source": [
    "To interpret the values above in words:\n",
    "\n",
    "*we are 95% certain that the true or population mean score, were every DiSC student to have completed the assignment, would fall between 78.85 and 91.46.*"
   ]
  },
  {
   "cell_type": "markdown",
   "metadata": {},
   "source": [
    "**Hey, I wonder if people who think N Sync are better than Backstreet Boys are smarter (and do better work)? Or vice versa?**\n",
    "\n",
    "*For this question, we need not only to find the means, but to statistically compare them to see if any difference is likely to be due to chance. There will almost always be a difference between the means, even if it's very small, like a fraction of a point. So what's important is to know whether the difference is meaningful.*\n",
    "\n",
    "*In tests like this, most scientists use a p<0.05 test statistic, meaning we are willing to accept a 5% or 1 in 20 probability of finding a statistical difference when there isn't a true difference in the population. This prevents having very many false positives and is generally a conservative way of reporting findings.*"
   ]
  },
  {
   "cell_type": "code",
   "execution_count": 17,
   "metadata": {
    "collapsed": true
   },
   "outputs": [],
   "source": [
    "#First we need to make subsets of the groups we're comparing (people who thing N Sync are better or Backstreet Boys are better)\n",
    "#The first expression can be read \"valid where the value of the bestBand variable in valid is the string 'N'.\"\n",
    "nsLove=valid[valid['bestBand']=='N']\n",
    "#We do the same thing for Backstreet Boys. We're ignoring the \"Other\" and missing answers for now.\n",
    "bsbLove=valid[valid['bestBand']=='B']"
   ]
  },
  {
   "cell_type": "code",
   "execution_count": 11,
   "metadata": {},
   "outputs": [
    {
     "data": {
      "text/html": [
       "<div>\n",
       "<style>\n",
       "    .dataframe thead tr:only-child th {\n",
       "        text-align: right;\n",
       "    }\n",
       "\n",
       "    .dataframe thead th {\n",
       "        text-align: left;\n",
       "    }\n",
       "\n",
       "    .dataframe tbody tr th {\n",
       "        vertical-align: top;\n",
       "    }\n",
       "</style>\n",
       "<table border=\"1\" class=\"dataframe\">\n",
       "  <thead>\n",
       "    <tr style=\"text-align: right;\">\n",
       "      <th></th>\n",
       "      <th>classNum</th>\n",
       "      <th>ID</th>\n",
       "      <th>nsLong</th>\n",
       "      <th>bsbLong</th>\n",
       "      <th>compLong</th>\n",
       "      <th>songList</th>\n",
       "      <th>noXmas</th>\n",
       "      <th>for</th>\n",
       "      <th>if</th>\n",
       "      <th>elif</th>\n",
       "      <th>...</th>\n",
       "      <th>time</th>\n",
       "      <th>bonus</th>\n",
       "      <th>total</th>\n",
       "      <th>minSpent</th>\n",
       "      <th>bestBand</th>\n",
       "      <th>hot</th>\n",
       "      <th>qual</th>\n",
       "      <th>prod</th>\n",
       "      <th>members</th>\n",
       "      <th>other</th>\n",
       "    </tr>\n",
       "  </thead>\n",
       "  <tbody>\n",
       "    <tr>\n",
       "      <th>2</th>\n",
       "      <td>class1</td>\n",
       "      <td>3</td>\n",
       "      <td>5.0</td>\n",
       "      <td>5.0</td>\n",
       "      <td>5.0</td>\n",
       "      <td>5.0</td>\n",
       "      <td>5.0</td>\n",
       "      <td>5.0</td>\n",
       "      <td>5.0</td>\n",
       "      <td>5.0</td>\n",
       "      <td>...</td>\n",
       "      <td>5.0</td>\n",
       "      <td>5.0</td>\n",
       "      <td>101.0</td>\n",
       "      <td>60.0</td>\n",
       "      <td>N</td>\n",
       "      <td>0.0</td>\n",
       "      <td>1.0</td>\n",
       "      <td>0.0</td>\n",
       "      <td>0.0</td>\n",
       "      <td>0.0</td>\n",
       "    </tr>\n",
       "    <tr>\n",
       "      <th>5</th>\n",
       "      <td>class1</td>\n",
       "      <td>6</td>\n",
       "      <td>5.0</td>\n",
       "      <td>5.0</td>\n",
       "      <td>5.0</td>\n",
       "      <td>5.0</td>\n",
       "      <td>5.0</td>\n",
       "      <td>5.0</td>\n",
       "      <td>5.0</td>\n",
       "      <td>3.0</td>\n",
       "      <td>...</td>\n",
       "      <td>5.0</td>\n",
       "      <td>5.0</td>\n",
       "      <td>99.0</td>\n",
       "      <td>60.0</td>\n",
       "      <td>N</td>\n",
       "      <td>0.0</td>\n",
       "      <td>0.0</td>\n",
       "      <td>1.0</td>\n",
       "      <td>0.0</td>\n",
       "      <td>0.0</td>\n",
       "    </tr>\n",
       "    <tr>\n",
       "      <th>10</th>\n",
       "      <td>class2</td>\n",
       "      <td>11</td>\n",
       "      <td>5.0</td>\n",
       "      <td>5.0</td>\n",
       "      <td>3.0</td>\n",
       "      <td>5.0</td>\n",
       "      <td>5.0</td>\n",
       "      <td>5.0</td>\n",
       "      <td>5.0</td>\n",
       "      <td>5.0</td>\n",
       "      <td>...</td>\n",
       "      <td>5.0</td>\n",
       "      <td>5.0</td>\n",
       "      <td>103.0</td>\n",
       "      <td>300.0</td>\n",
       "      <td>N</td>\n",
       "      <td>0.0</td>\n",
       "      <td>1.0</td>\n",
       "      <td>0.0</td>\n",
       "      <td>0.0</td>\n",
       "      <td>0.0</td>\n",
       "    </tr>\n",
       "    <tr>\n",
       "      <th>12</th>\n",
       "      <td>class2</td>\n",
       "      <td>13</td>\n",
       "      <td>5.0</td>\n",
       "      <td>5.0</td>\n",
       "      <td>5.0</td>\n",
       "      <td>5.0</td>\n",
       "      <td>5.0</td>\n",
       "      <td>5.0</td>\n",
       "      <td>5.0</td>\n",
       "      <td>5.0</td>\n",
       "      <td>...</td>\n",
       "      <td>5.0</td>\n",
       "      <td>5.0</td>\n",
       "      <td>98.0</td>\n",
       "      <td>40.0</td>\n",
       "      <td>N</td>\n",
       "      <td>0.0</td>\n",
       "      <td>1.0</td>\n",
       "      <td>0.0</td>\n",
       "      <td>1.0</td>\n",
       "      <td>0.0</td>\n",
       "    </tr>\n",
       "    <tr>\n",
       "      <th>19</th>\n",
       "      <td>class2</td>\n",
       "      <td>20</td>\n",
       "      <td>4.0</td>\n",
       "      <td>5.0</td>\n",
       "      <td>5.0</td>\n",
       "      <td>5.0</td>\n",
       "      <td>3.0</td>\n",
       "      <td>5.0</td>\n",
       "      <td>3.0</td>\n",
       "      <td>3.0</td>\n",
       "      <td>...</td>\n",
       "      <td>5.0</td>\n",
       "      <td>5.0</td>\n",
       "      <td>92.0</td>\n",
       "      <td>210.0</td>\n",
       "      <td>N</td>\n",
       "      <td>0.0</td>\n",
       "      <td>0.0</td>\n",
       "      <td>0.0</td>\n",
       "      <td>1.0</td>\n",
       "      <td>0.0</td>\n",
       "    </tr>\n",
       "  </tbody>\n",
       "</table>\n",
       "<p>5 rows × 28 columns</p>\n",
       "</div>"
      ],
      "text/plain": [
       "   classNum  ID  nsLong  bsbLong  compLong  songList  noXmas  for   if  elif  \\\n",
       "2    class1   3     5.0      5.0       5.0       5.0     5.0  5.0  5.0   5.0   \n",
       "5    class1   6     5.0      5.0       5.0       5.0     5.0  5.0  5.0   3.0   \n",
       "10   class2  11     5.0      5.0       3.0       5.0     5.0  5.0  5.0   5.0   \n",
       "12   class2  13     5.0      5.0       5.0       5.0     5.0  5.0  5.0   5.0   \n",
       "19   class2  20     4.0      5.0       5.0       5.0     3.0  5.0  3.0   3.0   \n",
       "\n",
       "    ...    time  bonus  total  minSpent  bestBand  hot  qual  prod  members  \\\n",
       "2   ...     5.0    5.0  101.0      60.0         N  0.0   1.0   0.0      0.0   \n",
       "5   ...     5.0    5.0   99.0      60.0         N  0.0   0.0   1.0      0.0   \n",
       "10  ...     5.0    5.0  103.0     300.0         N  0.0   1.0   0.0      0.0   \n",
       "12  ...     5.0    5.0   98.0      40.0         N  0.0   1.0   0.0      1.0   \n",
       "19  ...     5.0    5.0   92.0     210.0         N  0.0   0.0   0.0      1.0   \n",
       "\n",
       "    other  \n",
       "2     0.0  \n",
       "5     0.0  \n",
       "10    0.0  \n",
       "12    0.0  \n",
       "19    0.0  \n",
       "\n",
       "[5 rows x 28 columns]"
      ]
     },
     "execution_count": 11,
     "metadata": {},
     "output_type": "execute_result"
    }
   ],
   "source": [
    "#Scroll over to 'bestBand' and check that it worked\n",
    "nsLove.head()"
   ]
  },
  {
   "cell_type": "code",
   "execution_count": 12,
   "metadata": {},
   "outputs": [
    {
     "data": {
      "text/plain": [
       "count     13.000000\n",
       "mean      92.923077\n",
       "std       15.332218\n",
       "min       48.000000\n",
       "25%       91.000000\n",
       "50%       99.000000\n",
       "75%      101.000000\n",
       "max      105.000000\n",
       "Name: total, dtype: float64"
      ]
     },
     "execution_count": 12,
     "metadata": {},
     "output_type": "execute_result"
    }
   ],
   "source": [
    "#Let's see the means\n",
    "nsLove['total'].describe()"
   ]
  },
  {
   "cell_type": "code",
   "execution_count": 13,
   "metadata": {},
   "outputs": [
    {
     "data": {
      "text/plain": [
       "count     25.000000\n",
       "mean      86.600000\n",
       "std       19.050372\n",
       "min       44.000000\n",
       "25%       78.000000\n",
       "50%       94.000000\n",
       "75%      102.000000\n",
       "max      105.000000\n",
       "Name: total, dtype: float64"
      ]
     },
     "execution_count": 13,
     "metadata": {},
     "output_type": "execute_result"
    }
   ],
   "source": [
    "bsbLove['total'].describe()"
   ]
  },
  {
   "cell_type": "markdown",
   "metadata": {},
   "source": [
    "**92.9 certainly looks larger than 86.6, but is it meaningful or the result of random differences in samples?**\n",
    "\n",
    "*Let's use a T-test (again a procedure in statsmodels) to find out.*"
   ]
  },
  {
   "cell_type": "code",
   "execution_count": 14,
   "metadata": {},
   "outputs": [
    {
     "data": {
      "text/plain": [
       "6.3230769230769255"
      ]
     },
     "execution_count": 14,
     "metadata": {},
     "output_type": "execute_result"
    }
   ],
   "source": [
    "#For reference, this is how you would calculate the difference automatically\n",
    "nsLove['total'].mean()-bsbLove['total'].mean()\n"
   ]
  },
  {
   "cell_type": "code",
   "execution_count": 15,
   "metadata": {},
   "outputs": [
    {
     "data": {
      "text/plain": [
       "(1.0332313152236081, 0.30838715138763295, 36.0)"
      ]
     },
     "execution_count": 15,
     "metadata": {},
     "output_type": "execute_result"
    }
   ],
   "source": [
    "#Test the difference of means using a T-test\n",
    "import statsmodels.stats.weightstats as stats\n",
    "stats.ttest_ind(nsLove['total'],bsbLove['total'])"
   ]
  },
  {
   "cell_type": "markdown",
   "metadata": {},
   "source": [
    "To interpret the above:\n",
    "- The first value is the *T-Statistic*, which is used to conduct the test. Larger values are associated with more probability of a meaningful difference\n",
    "- The **second value, the p-value of the test,** is the key here. If p is less than 0.05, we say there is a statistically significant difference between the groups; e.g. they're not random samples drawn from the same population. Remember there is still a 1 in 20 probability that you're wrong, but if the test value p is decreased, we then increase the probability of not finding a difference even when there is a true difference.\n",
    "- The third value is the degrees of freedom for the test, which is based on the number of cases. More cases provide more degrees of freedom, which allows for more statistical confidence even with the same differences in means. This is why you can't just ask the three people next to you which band is better and assume that more people in the US (or even the class) prefer whichever two of the three of them say."
   ]
  },
  {
   "cell_type": "markdown",
   "metadata": {},
   "source": [
    "**That's it for today. On Friday, we'll talk about other statistical tests to work with more variables or different kinds of variables. Thanks!**"
   ]
  },
  {
   "cell_type": "code",
   "execution_count": null,
   "metadata": {
    "collapsed": true
   },
   "outputs": [],
   "source": []
  }
 ],
 "metadata": {
  "kernelspec": {
   "display_name": "Python 3",
   "language": "python",
   "name": "python3"
  },
  "language_info": {
   "codemirror_mode": {
    "name": "ipython",
    "version": 3
   },
   "file_extension": ".py",
   "mimetype": "text/x-python",
   "name": "python",
   "nbconvert_exporter": "python",
   "pygments_lexer": "ipython3",
   "version": "3.6.2"
  }
 },
 "nbformat": 4,
 "nbformat_minor": 2
}
