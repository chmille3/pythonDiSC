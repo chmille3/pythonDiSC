{
 "cells": [
  {
   "cell_type": "markdown",
   "metadata": {},
   "source": [
    "# Foundations and Dataframes in Python Assignment\n",
    "**Due on Canvas Monday 09/24/2018**\n",
    "\n",
    "Please download this notebook and rename it in the format \"YOURPID Python Assignment 1\". Please follow directions in the empty code blocks. You are not required to annotate with comments, but you can only receive partial credit for problems completed with comments. When finished, please submit on Canvas.\n",
    "\n",
    "**You may talk to your classmates if you're getting errors or having trouble finding a procedure, but you may not copy any part of their assignment.**\n",
    "\n",
    "If you have any questions, look through your notes and the notebooks posted in the Files area. If you still can't figure something out, you may [email me](mailto:ndporter@vt.edu) and I will respond within 48 hours."
   ]
  },
  {
   "cell_type": "markdown",
   "metadata": {},
   "source": [
    "## Foundational Python"
   ]
  },
  {
   "cell_type": "markdown",
   "metadata": {},
   "source": [
    "*We'll start using data from the million song dataset today, specifically looking at two bands: Backstreet Boys and N Sync. You can complete the assignment without knowing anything about them, but you may get a chuckle if you have a little familiarity.*\n",
    "\n",
    "A friend who grew up in the 90s asks you who was better, Backstreet Boys or N Sync. Being the good data-oriented people you are, you'd like to know a little more than just what their songs sound like. You decide to start by looking at their discography.\n",
    "\n",
    "**N Sync's [Discography](https://en.wikipedia.org/wiki/NSYNC_discography)**\n",
    "\n",
    "1997 'N Sync\n",
    "\n",
    "1998 Home for Christmas *(Christmas)*\n",
    "\n",
    "1998 The Winter Album *(Christmas)*\n",
    "\n",
    "2000 No Strings Attached\n",
    "\n",
    "2001 Celebrity\n",
    "\n",
    "2005 Greatest Hits *(Compilation)*\n",
    "\n",
    "2010 The Collection *(Compilation)*\n",
    "\n",
    "2014 The Essential \\*NSYNC *(Compilation)*\n",
    "\n",
    "**Backstreet Boy's [Discography](https://en.wikipedia.org/wiki/Backstreet_Boys_discography)**\n",
    "\n",
    "1996 Backstreet Boys\n",
    "\n",
    "1997 Backstreet's Back\n",
    "\n",
    "1998 A Night Out with the Backstreet Boys *(Live)*\n",
    "\n",
    "1999 Millenium\n",
    "\n",
    "2000 Black & Blue\n",
    "\n",
    "2001 The Hits - Chapter One *(Compilation)*\n",
    "\n",
    "2005 Never Gone\n",
    "\n",
    "2007 Unbreakable\n",
    "\n",
    "2009 This is Us\n",
    "\n",
    "2013 In a World Like This\n",
    "\n",
    "2013 The Essential Backstreet Boys *(Compilation)*"
   ]
  },
  {
   "cell_type": "markdown",
   "metadata": {},
   "source": [
    "Create a variable whose value is equal to the length of time N Sync was actively producing new studio releases (e.g. not compilations). **5 points**"
   ]
  },
  {
   "cell_type": "code",
   "execution_count": 1,
   "metadata": {
    "collapsed": true
   },
   "outputs": [],
   "source": [
    "#Don't do the math in your head\n",
    "#Use Python to calculate the number of years"
   ]
  },
  {
   "cell_type": "code",
   "execution_count": null,
   "metadata": {
    "collapsed": true
   },
   "outputs": [],
   "source": []
  },
  {
   "cell_type": "code",
   "execution_count": 2,
   "metadata": {
    "collapsed": true
   },
   "outputs": [],
   "source": [
    "#Print the phrase \"N Sync Longevity:\" followed by the value of your varible"
   ]
  },
  {
   "cell_type": "markdown",
   "metadata": {},
   "source": [
    "Now do the same thing for Backstreet Boys, again printing the value as above. **5 points**"
   ]
  },
  {
   "cell_type": "code",
   "execution_count": null,
   "metadata": {
    "collapsed": true
   },
   "outputs": [],
   "source": []
  },
  {
   "cell_type": "markdown",
   "metadata": {},
   "source": [
    "Now divide the two variables to find out how many times as long Backstreet Boys were making new music as N Sync. **5 points**"
   ]
  },
  {
   "cell_type": "code",
   "execution_count": null,
   "metadata": {
    "collapsed": true
   },
   "outputs": [],
   "source": []
  },
  {
   "cell_type": "markdown",
   "metadata": {},
   "source": [
    "Let's look at some songs. Make a **list** of the titles of some of the top songs from BSB and NS (all the below): **5 points**\n",
    "\n",
    "[I Want it That Way](https://www.youtube.com/watch?v=4fndeDfaWCg)\n",
    "\n",
    "[Everybody (Backstreet's Back)](https://www.youtube.com/watch?v=6M6samPEMpM)\n",
    "\n",
    "[Bye Bye Bye](https://www.youtube.com/watch?v=Eo-KmOd3i7s)\n",
    "\n",
    "[I Want You Back](https://www.youtube.com/watch?v=Jl9wD1-CUiI)\n",
    "\n",
    "[The Christmas Song](https://www.youtube.com/watch?v=A-s8YT89q_8)"
   ]
  },
  {
   "cell_type": "code",
   "execution_count": 3,
   "metadata": {
    "collapsed": true
   },
   "outputs": [],
   "source": [
    "#Hint: make a list of strings"
   ]
  },
  {
   "cell_type": "code",
   "execution_count": null,
   "metadata": {
    "collapsed": true
   },
   "outputs": [],
   "source": []
  },
  {
   "cell_type": "markdown",
   "metadata": {},
   "source": [
    "Oops! We changed our mind and don't want any Christmas music in our list. Delete any Christmas songs and print the new list. **5 points**"
   ]
  },
  {
   "cell_type": "code",
   "execution_count": null,
   "metadata": {
    "collapsed": true
   },
   "outputs": [],
   "source": []
  },
  {
   "cell_type": "markdown",
   "metadata": {},
   "source": [
    "Now: Use a **for** loop to do the following for each song in the list: **25 points**\n",
    "\n",
    "1. Print \"How do you want it?\"\n",
    "\n",
    "2. If the song is \"Everybody (Backstreet's Back)\" print \"I want you to rock your body right\"\n",
    "\n",
    "3. If the song is \"I Want it That Way\" print \"I Want it That Way\"\n",
    "\n",
    "4. Otherwise, print \"I Want in In Sync\""
   ]
  },
  {
   "cell_type": "code",
   "execution_count": null,
   "metadata": {
    "collapsed": true
   },
   "outputs": [],
   "source": []
  },
  {
   "cell_type": "markdown",
   "metadata": {},
   "source": [
    "## Data Frames in Pandas"
   ]
  },
  {
   "cell_type": "markdown",
   "metadata": {},
   "source": [
    "*Now let's look at some data from the Million Song Dataset, specifically the track information for tracks by N Sync and Backstreet Boys. We'll use Pandas dataframes to do some simple analysis.*"
   ]
  },
  {
   "cell_type": "markdown",
   "metadata": {},
   "source": [
    "First, load the pandas package. **5 points**"
   ]
  },
  {
   "cell_type": "code",
   "execution_count": null,
   "metadata": {
    "collapsed": true
   },
   "outputs": [],
   "source": []
  },
  {
   "cell_type": "markdown",
   "metadata": {},
   "source": [
    "Download [this Excel workbook](https://drive.google.com/file/d/1LuPEAp1LnczTXyXSZRF8PGJbFytd2CPt/view?usp=sharing) and read it into Python then look at the first 5 rows to see what the data look like. **10 points**"
   ]
  },
  {
   "cell_type": "code",
   "execution_count": 4,
   "metadata": {
    "collapsed": true
   },
   "outputs": [],
   "source": [
    "#Hint: type the letter r before the quotes around your file location so you don't get unicode errors\n"
   ]
  },
  {
   "cell_type": "markdown",
   "metadata": {},
   "source": [
    "Remove any cases (rows) with missing data. **5 points**"
   ]
  },
  {
   "cell_type": "code",
   "execution_count": null,
   "metadata": {
    "collapsed": true
   },
   "outputs": [],
   "source": []
  },
  {
   "cell_type": "markdown",
   "metadata": {},
   "source": [
    "*Were they still Hot in 2010? Which was hotter?* **25 points**\n",
    "\n",
    "Find the mean Artist Hotttnesss for Backstreet Boys and N Sync by:\n",
    "\n",
    "1. Subset cases into two new datasets using artist names, one for each group.\n",
    "2. Find the mean of the variable \"artist_hotttnesss\" in each of the two new datasets.\n",
    "3. Print the values with labels (like you did for variable values above)"
   ]
  },
  {
   "cell_type": "code",
   "execution_count": null,
   "metadata": {
    "collapsed": true
   },
   "outputs": [],
   "source": []
  },
  {
   "cell_type": "markdown",
   "metadata": {},
   "source": [
    "Please add a comment below estimating how much time you spent on this assignment. **5 points**"
   ]
  },
  {
   "cell_type": "code",
   "execution_count": null,
   "metadata": {
    "collapsed": true
   },
   "outputs": [],
   "source": []
  },
  {
   "cell_type": "markdown",
   "metadata": {},
   "source": [
    "**You're done! Make sure to double check your work and to name your file per the directions.**"
   ]
  },
  {
   "cell_type": "markdown",
   "metadata": {},
   "source": [
    "Bonus points (**5**): Add a comment below stating which of the groups you think is better and why. You can justify it with the data we looked at, other data, favorite songs, or any other reason."
   ]
  },
  {
   "cell_type": "code",
   "execution_count": null,
   "metadata": {
    "collapsed": true
   },
   "outputs": [],
   "source": []
  }
 ],
 "metadata": {
  "kernelspec": {
   "display_name": "Python 3",
   "language": "python",
   "name": "python3"
  },
  "language_info": {
   "codemirror_mode": {
    "name": "ipython",
    "version": 3
   },
   "file_extension": ".py",
   "mimetype": "text/x-python",
   "name": "python",
   "nbconvert_exporter": "python",
   "pygments_lexer": "ipython3",
   "version": "3.6.2"
  }
 },
 "nbformat": 4,
 "nbformat_minor": 2
}
